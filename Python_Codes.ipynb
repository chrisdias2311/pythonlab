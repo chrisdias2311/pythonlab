{
  "nbformat": 4,
  "nbformat_minor": 0,
  "metadata": {
    "colab": {
      "provenance": [],
      "include_colab_link": true
    },
    "kernelspec": {
      "name": "python3",
      "display_name": "Python 3"
    },
    "language_info": {
      "name": "python"
    }
  },
  "cells": [
    {
      "cell_type": "markdown",
      "metadata": {
        "id": "view-in-github",
        "colab_type": "text"
      },
      "source": [
        "<a href=\"https://colab.research.google.com/github/chrisdias2311/pythonlab/blob/main/Python_Codes.ipynb\" target=\"_parent\"><img src=\"https://colab.research.google.com/assets/colab-badge.svg\" alt=\"Open In Colab\"/></a>"
      ]
    },
    {
      "cell_type": "markdown",
      "source": [
        "## 40. Write a python program to create a dictionary of 10 items. Perform following operations on the list"
      ],
      "metadata": {
        "id": "0WAtK1f-KcES"
      }
    },
    {
      "cell_type": "code",
      "source": [
        "my_dict = {\n",
        "    \"apple\": 2,\n",
        "    \"banana\": 5,\n",
        "    \"cherry\": 10,\n",
        "    \"durian\": 3,\n",
        "    \"elderberry\": 4,\n",
        "    \"fig\": 6,\n",
        "    \"grape\": 8,\n",
        "    \"honeydew\": 1,\n",
        "    \"kiwi\": 7,\n",
        "    \"lemon\": 9\n",
        "}\n",
        "\n",
        "# ● Return the value of the specified key\n",
        "print(my_dict[\"apple\"])\n",
        "\n",
        "# ● Remove the element with the specified key\n",
        "del my_dict[\"banana\"]\n",
        "print(my_dict)\n",
        "\n",
        "# ● Remove the last inserted key-value pair\n",
        "lastKey = list(my_dict.keys())[-1]\n",
        "print(lastKey)\n",
        "del my_dict[lastKey]\n",
        "print(my_dict)\n",
        "\n",
        "# ● Update the dictionary with the specified key-value pairs\n",
        "my_dict.update({\"apple\": 10,\"banana\": 5})\n",
        "print(my_dict)\n",
        "\n",
        "# ● Return list of all values in the dictionary\n",
        "print(list(my_dict.values()))"
      ],
      "metadata": {
        "id": "cSU2x1QGLti4"
      },
      "execution_count": null,
      "outputs": []
    },
    {
      "cell_type": "markdown",
      "source": [
        "## 39. Write a python program to create a list of 10 items. Perform following operations on the list."
      ],
      "metadata": {
        "id": "ZLc0J8acPBKD"
      }
    },
    {
      "cell_type": "code",
      "source": [
        "# ● Add an element at the end of the list\n",
        "my_list = [1, 2, 3, 4, 5, 6]\n",
        "print(my_list)\n",
        "my_list.append(7)\n",
        "print(my_list)\n",
        "\n",
        "# ● Add an element at the specified position\n",
        "my_list.insert(4, 69)\n",
        "print(my_list)\n",
        "\n",
        "# ● Remove the element at the specified position\n",
        "del my_list[4]\n",
        "print(my_list)\n",
        "\n",
        "# ● Revere the order of the list\n",
        "my_list.reverse()\n",
        "print(my_list)\n",
        "\n",
        "# ● Return the number of elements with the specified value\n",
        "print(my_list.count(2))"
      ],
      "metadata": {
        "colab": {
          "base_uri": "https://localhost:8080/"
        },
        "id": "ntDPKX_rPKNg",
        "outputId": "c605b6d0-34fa-4fc1-b282-269e984532d2"
      },
      "execution_count": 2,
      "outputs": [
        {
          "output_type": "stream",
          "name": "stdout",
          "text": [
            "[1, 2, 3, 4, 5, 6]\n",
            "[1, 2, 3, 4, 5, 6, 7]\n",
            "[1, 2, 3, 4, 69, 5, 6, 7]\n",
            "[1, 2, 3, 4, 5, 6, 7]\n",
            "[7, 6, 5, 4, 3, 2, 1]\n",
            "1\n"
          ]
        }
      ]
    },
    {
      "cell_type": "markdown",
      "source": [
        "## 38. Write a python program to implement string methods. Create a string “hello programming”. Apply string methods to get following outputs “HELLO PROGRAMMING”, “PROGRAMMING”, “Hello Programming”, “o Programming”, [“Hello”, “Programming”] , “g”\n"
      ],
      "metadata": {
        "id": "gZVreZVgQy4-"
      }
    },
    {
      "cell_type": "code",
      "source": [
        "my_str = \"hello programming\"\n",
        "\n",
        "# Convert it to Upper case\n",
        "my_str = my_str.upper()\n",
        "print(my_str)\n",
        "\n",
        "# Get the substring starting from the 7th character\n",
        "my_str = my_str[6:]\n",
        "print(my_str)\n",
        "\n",
        "# Get the substring starting from the 7th character\n",
        "my_str = \"hello programming\"\n",
        "my_str = my_str.capitalize()\n",
        "print(my_str)\n",
        "\n",
        "# Get the substring starting from 4th Character \n",
        "my_str = my_str[4:]\n",
        "print(my_str)\n",
        "\n",
        "# Split the String into a alist of words \n",
        "my_list = my_str.split()\n",
        "print(my_list)\n",
        "\n",
        "# Get the last character of the string\n",
        "char = my_str[-1]\n",
        "print(char)"
      ],
      "metadata": {
        "colab": {
          "base_uri": "https://localhost:8080/"
        },
        "id": "5F5BtfptRPS_",
        "outputId": "00abbf3b-5101-4b8a-d33f-5788a60a2f2c"
      },
      "execution_count": null,
      "outputs": [
        {
          "output_type": "stream",
          "name": "stdout",
          "text": [
            "HELLO PROGRAMMING\n",
            "PROGRAMMING\n",
            "Hello programming\n",
            "o programming\n",
            "['o', 'programming']\n",
            "g\n"
          ]
        }
      ]
    },
    {
      "cell_type": "markdown",
      "source": [
        "## 37. Write a program to check whether the input year is a leap year or not"
      ],
      "metadata": {
        "id": "qMiEAd9eWJwq"
      }
    },
    {
      "cell_type": "code",
      "source": [
        "year = int(input(\"Enter a ayear: \"))\n",
        "\n",
        "if(year % 4 == 0):\n",
        "    print(\"Leap Year\")\n",
        "else:\n",
        "  print(\"Not a leap year\")    "
      ],
      "metadata": {
        "colab": {
          "base_uri": "https://localhost:8080/"
        },
        "id": "2GOlIGqHWLbN",
        "outputId": "8e041282-dafe-47d5-b298-84d30899bc7c"
      },
      "execution_count": null,
      "outputs": [
        {
          "output_type": "stream",
          "name": "stdout",
          "text": [
            "Enter a ayear: 2004\n",
            "Leap Year\n"
          ]
        }
      ]
    },
    {
      "cell_type": "markdown",
      "source": [
        "## 36. Write a Python program to check and print if the inputted number is ‘positive’, ‘negative’ or ‘zero’"
      ],
      "metadata": {
        "id": "ggpdsJjuRfQQ"
      }
    },
    {
      "cell_type": "code",
      "source": [
        "num  = int(input(\"Enter a number\"))\n",
        "\n",
        "if(num==0):\n",
        "  print(\"Number is 0\")\n",
        "elif (num<0):\n",
        "  print(\"Number is negetive\")\n",
        "else:\n",
        "  print(\"Number is positive\")  "
      ],
      "metadata": {
        "colab": {
          "base_uri": "https://localhost:8080/"
        },
        "id": "orTZKJzbRmDX",
        "outputId": "864c0020-96f2-474a-f7ac-969e69c039a0"
      },
      "execution_count": null,
      "outputs": [
        {
          "output_type": "stream",
          "name": "stdout",
          "text": [
            "Enter a number10\n",
            "Number is positive\n"
          ]
        }
      ]
    },
    {
      "cell_type": "markdown",
      "source": [
        "## 35. Print the multiplication tables of all the number between 1 to n##"
      ],
      "metadata": {
        "id": "NXaYalTiSFpd"
      }
    },
    {
      "cell_type": "code",
      "source": [
        "n = int(input(\"Enter a number\"))\n",
        "\n",
        "for i in range(1, n+1):\n",
        "  len = 10\n",
        "  for j in range(1, len+1):\n",
        "    print(i, \" x \", j, \" = \", j*i)"
      ],
      "metadata": {
        "id": "Mn4HaQSQSUQN",
        "colab": {
          "base_uri": "https://localhost:8080/"
        },
        "outputId": "c8734986-c51d-487b-f05e-7b4c06f1cde8"
      },
      "execution_count": null,
      "outputs": [
        {
          "output_type": "stream",
          "name": "stdout",
          "text": [
            "Enter a number12\n",
            "1  x  1  =  1\n",
            "1  x  2  =  2\n",
            "1  x  3  =  3\n",
            "1  x  4  =  4\n",
            "1  x  5  =  5\n",
            "1  x  6  =  6\n",
            "1  x  7  =  7\n",
            "1  x  8  =  8\n",
            "1  x  9  =  9\n",
            "1  x  10  =  10\n",
            "2  x  1  =  2\n",
            "2  x  2  =  4\n",
            "2  x  3  =  6\n",
            "2  x  4  =  8\n",
            "2  x  5  =  10\n",
            "2  x  6  =  12\n",
            "2  x  7  =  14\n",
            "2  x  8  =  16\n",
            "2  x  9  =  18\n",
            "2  x  10  =  20\n",
            "3  x  1  =  3\n",
            "3  x  2  =  6\n",
            "3  x  3  =  9\n",
            "3  x  4  =  12\n",
            "3  x  5  =  15\n",
            "3  x  6  =  18\n",
            "3  x  7  =  21\n",
            "3  x  8  =  24\n",
            "3  x  9  =  27\n",
            "3  x  10  =  30\n",
            "4  x  1  =  4\n",
            "4  x  2  =  8\n",
            "4  x  3  =  12\n",
            "4  x  4  =  16\n",
            "4  x  5  =  20\n",
            "4  x  6  =  24\n",
            "4  x  7  =  28\n",
            "4  x  8  =  32\n",
            "4  x  9  =  36\n",
            "4  x  10  =  40\n",
            "5  x  1  =  5\n",
            "5  x  2  =  10\n",
            "5  x  3  =  15\n",
            "5  x  4  =  20\n",
            "5  x  5  =  25\n",
            "5  x  6  =  30\n",
            "5  x  7  =  35\n",
            "5  x  8  =  40\n",
            "5  x  9  =  45\n",
            "5  x  10  =  50\n",
            "6  x  1  =  6\n",
            "6  x  2  =  12\n",
            "6  x  3  =  18\n",
            "6  x  4  =  24\n",
            "6  x  5  =  30\n",
            "6  x  6  =  36\n",
            "6  x  7  =  42\n",
            "6  x  8  =  48\n",
            "6  x  9  =  54\n",
            "6  x  10  =  60\n",
            "7  x  1  =  7\n",
            "7  x  2  =  14\n",
            "7  x  3  =  21\n",
            "7  x  4  =  28\n",
            "7  x  5  =  35\n",
            "7  x  6  =  42\n",
            "7  x  7  =  49\n",
            "7  x  8  =  56\n",
            "7  x  9  =  63\n",
            "7  x  10  =  70\n",
            "8  x  1  =  8\n",
            "8  x  2  =  16\n",
            "8  x  3  =  24\n",
            "8  x  4  =  32\n",
            "8  x  5  =  40\n",
            "8  x  6  =  48\n",
            "8  x  7  =  56\n",
            "8  x  8  =  64\n",
            "8  x  9  =  72\n",
            "8  x  10  =  80\n",
            "9  x  1  =  9\n",
            "9  x  2  =  18\n",
            "9  x  3  =  27\n",
            "9  x  4  =  36\n",
            "9  x  5  =  45\n",
            "9  x  6  =  54\n",
            "9  x  7  =  63\n",
            "9  x  8  =  72\n",
            "9  x  9  =  81\n",
            "9  x  10  =  90\n",
            "10  x  1  =  10\n",
            "10  x  2  =  20\n",
            "10  x  3  =  30\n",
            "10  x  4  =  40\n",
            "10  x  5  =  50\n",
            "10  x  6  =  60\n",
            "10  x  7  =  70\n",
            "10  x  8  =  80\n",
            "10  x  9  =  90\n",
            "10  x  10  =  100\n",
            "11  x  1  =  11\n",
            "11  x  2  =  22\n",
            "11  x  3  =  33\n",
            "11  x  4  =  44\n",
            "11  x  5  =  55\n",
            "11  x  6  =  66\n",
            "11  x  7  =  77\n",
            "11  x  8  =  88\n",
            "11  x  9  =  99\n",
            "11  x  10  =  110\n",
            "12  x  1  =  12\n",
            "12  x  2  =  24\n",
            "12  x  3  =  36\n",
            "12  x  4  =  48\n",
            "12  x  5  =  60\n",
            "12  x  6  =  72\n",
            "12  x  7  =  84\n",
            "12  x  8  =  96\n",
            "12  x  9  =  108\n",
            "12  x  10  =  120\n"
          ]
        }
      ]
    },
    {
      "cell_type": "markdown",
      "source": [
        "## 34. Write a python program to calculate factorials of all the even numbers between 10 to 50"
      ],
      "metadata": {
        "id": "YP8ZX_MTS_R_"
      }
    },
    {
      "cell_type": "code",
      "source": [
        "def factorial(n):\n",
        "  if n==0:\n",
        "    return 1;\n",
        "  else:\n",
        "    return n * factorial(n-1)\n",
        "\n",
        "\n",
        "for i in range(10, 51):\n",
        "  if(i%2==0):\n",
        "      print(\"Factorial of \",i , \" is \", factorial(i))\n"
      ],
      "metadata": {
        "id": "wQhBSRAyTxv_",
        "colab": {
          "base_uri": "https://localhost:8080/"
        },
        "outputId": "76a7f1a3-9d02-42f4-cab1-d915fea6474b"
      },
      "execution_count": 6,
      "outputs": [
        {
          "output_type": "stream",
          "name": "stdout",
          "text": [
            "Factorial of  10  is  3628800\n",
            "Factorial of  12  is  479001600\n",
            "Factorial of  14  is  87178291200\n",
            "Factorial of  16  is  20922789888000\n",
            "Factorial of  18  is  6402373705728000\n",
            "Factorial of  20  is  2432902008176640000\n",
            "Factorial of  22  is  1124000727777607680000\n",
            "Factorial of  24  is  620448401733239439360000\n",
            "Factorial of  26  is  403291461126605635584000000\n",
            "Factorial of  28  is  304888344611713860501504000000\n",
            "Factorial of  30  is  265252859812191058636308480000000\n",
            "Factorial of  32  is  263130836933693530167218012160000000\n",
            "Factorial of  34  is  295232799039604140847618609643520000000\n",
            "Factorial of  36  is  371993326789901217467999448150835200000000\n",
            "Factorial of  38  is  523022617466601111760007224100074291200000000\n",
            "Factorial of  40  is  815915283247897734345611269596115894272000000000\n",
            "Factorial of  42  is  1405006117752879898543142606244511569936384000000000\n",
            "Factorial of  44  is  2658271574788448768043625811014615890319638528000000000\n",
            "Factorial of  46  is  5502622159812088949850305428800254892961651752960000000000\n",
            "Factorial of  48  is  12413915592536072670862289047373375038521486354677760000000000\n",
            "Factorial of  50  is  30414093201713378043612608166064768844377641568960512000000000000\n"
          ]
        }
      ]
    },
    {
      "cell_type": "markdown",
      "source": [
        "## 33. Write a python program to print all the fibonacci numbers between 1 to 50."
      ],
      "metadata": {
        "id": "Y8NOuS3SVJXP"
      }
    },
    {
      "cell_type": "code",
      "source": [
        "# Function using iteraton\n",
        "def fib(n):\n",
        "  a, b = 0, 1\n",
        "\n",
        "  for i in range(n):\n",
        "    print(b)\n",
        "    temp=a\n",
        "    a=b\n",
        "    b=temp+b\n",
        "\n",
        "\n",
        "# Function usign recursion\n",
        "def fibo(n, a, b, c, a_list):\n",
        "  if(c==n):\n",
        "    return\n",
        "\n",
        "  # print(b)  \n",
        "  a_list.append(b)\n",
        "  fibo(n, b, a+b, c+1, a_list)  \n",
        "\n",
        "\n",
        "\n",
        "# fib(10) \n",
        "# fibo(10, 0, 1, 0) \n",
        "n=10\n",
        "for i in range(n+1):\n",
        "  my_list=[]\n",
        "  fibo(i, 0, 1, 0, my_list)\n",
        "  print(my_list)\n",
        "\n",
        "  "
      ],
      "metadata": {
        "id": "sc8HgX5sVa1f"
      },
      "execution_count": null,
      "outputs": []
    },
    {
      "cell_type": "markdown",
      "source": [
        "##32. Write a python program to range function to add all the odd numbers between 1 to n and display the clasresult\n"
      ],
      "metadata": {
        "id": "_DRM8Cq0WhVQ"
      }
    },
    {
      "cell_type": "code",
      "source": [
        "def add_n(n):\n",
        "  sum=0;\n",
        "  for i in range(1, n):\n",
        "    if(i%2==1):\n",
        "      sum+=i\n",
        "  return sum\n",
        "\n",
        "num = int(input(\"Enter a number\"))\n",
        "add_n(num)"
      ],
      "metadata": {
        "id": "ac_fayHrB0Za"
      },
      "execution_count": null,
      "outputs": []
    },
    {
      "cell_type": "markdown",
      "source": [
        "## 31. Write a python program to print a pyramid pattern on the screen"
      ],
      "metadata": {
        "id": "6RY1sOl4B3SA"
      }
    },
    {
      "cell_type": "code",
      "source": [
        "n = int(input(\"Enter height of pyramid: \"))\n",
        "\n",
        "for i in range(1, n+1):\n",
        "  print(\" \"*(n-i), end=\"\")\n",
        "  print(\"*\"*(2*i-1))"
      ],
      "metadata": {
        "id": "ngeEbeO6DVHO"
      },
      "execution_count": null,
      "outputs": []
    },
    {
      "cell_type": "markdown",
      "source": [
        "## 30. Write a python program implements stack using array"
      ],
      "metadata": {
        "id": "YlIuqmhcFIbF"
      }
    },
    {
      "cell_type": "code",
      "source": [
        "class Stack:\n",
        "    def __init__(self):\n",
        "      self.items=[]\n",
        "\n",
        "    def is_empty(self):\n",
        "      return len(self.items)==0;\n",
        "\n",
        "\n",
        "    def push(self, num):\n",
        "      self.items.append(num)\n",
        "\n",
        "\n",
        "    def pop(self):\n",
        "      if self.is_empty():\n",
        "        return None\n",
        "      else:\n",
        "        return self.items.pop()\n",
        "\n",
        "\n",
        "    def peek(self):\n",
        "      if self.is_empty():\n",
        "        return None\n",
        "      else:\n",
        "        return self.items[-1]\n",
        "\n",
        "    def size(self):\n",
        "      return len(self.items)\n",
        "\n",
        "\n",
        "\n",
        "s = Stack()\n",
        "s.push(1)\n",
        "s.push(2)\n",
        "s.push(3)\n",
        "print(s.peek())    # Output: 3\n",
        "s.pop()\n",
        "print(s.peek())    # Output: 2\n",
        "print(s.size())    # Output: 2\n"
      ],
      "metadata": {
        "id": "UOrw4m3yHVN0"
      },
      "execution_count": null,
      "outputs": []
    },
    {
      "cell_type": "markdown",
      "source": [
        "## 29. Write a program to create an array a of size 10 of type integer. Create another array b which has four times the elements of array a"
      ],
      "metadata": {
        "id": "El9J2AWMHmUj"
      }
    },
    {
      "cell_type": "code",
      "source": [
        "# Extract elements from 4 to 8 from an array and store in another array.\n",
        "a = [i for i in range(10)]\n",
        "print(a)\n",
        "\n",
        "# create array b with four times the elements of array a\n",
        "b = a*4\n",
        "print(b)\n",
        "\n",
        "# extract elements from 4 to 8 from an array and store in another array\n",
        "c = a[4:8]\n",
        "print(c)\n",
        "\n",
        "# Print the array in the reverse order \n",
        "print(\"Array in reverse order is: \", a[::-1])\n",
        "\n",
        "# pop elements from the array from first location, from middle and from last\n",
        "a.pop(0)\n",
        "a.pop(len(a)//2)\n",
        "a.pop()\n",
        "print(\"After poppng elements from the array from first location, from middle and from last\", a)\n",
        "\n",
        "# append three more elements to the array\n",
        "a.append(10)\n",
        "a.append(12)\n",
        "a.append(13)\n",
        "print(a)\n",
        "\n",
        "# delete the third elements of an array\n",
        "del a[2]\n",
        "print(\"After deleting the thirs element: \", a)\n",
        "\n",
        "# search an element from an array\n",
        "element = 7 \n",
        "if element in a:\n",
        "  print(\"Element found\")\n",
        "else:\n",
        "  print(\"Element not found\")  \n",
        "\n",
        "\n",
        "# insert an element in the middle\n",
        "a.insert(len(a)//2, 100)\n",
        "print(\"Array after inserting the element in the middle\", a)"
      ],
      "metadata": {
        "id": "ll23elLXJC3B"
      },
      "execution_count": null,
      "outputs": []
    },
    {
      "cell_type": "markdown",
      "source": [
        "## 28. Write a program to compute sum of all the list elements and implement the same using reduce function"
      ],
      "metadata": {
        "id": "QzBN3n0GtXA0"
      }
    },
    {
      "cell_type": "code",
      "source": [
        "import functools as ft \n",
        "numbers = [1, 2, 3, 4, 5]\n",
        "\n",
        "sum_of_nums = 0\n",
        "\n",
        "# compute sum of list elements using a for loop\n",
        "for i in range(len(numbers)):\n",
        "  sum_of_nums += numbers[i]\n",
        "\n",
        "# compute sum of list elements using reduce function\n",
        "sum_reduce_func = ft.reduce(lambda x, y: x+y, numbers)\n",
        "\n",
        "print(\"sum of numbers = \", sum_of_nums)  \n",
        "print(\"sum of numbers = \", sum_reduce_func)  "
      ],
      "metadata": {
        "id": "sPkRN6tvtsds"
      },
      "execution_count": null,
      "outputs": []
    },
    {
      "cell_type": "markdown",
      "source": [
        "## 27. Write a program to function that filters vowels from given list of characters and implement the same using filter function  (Revision must)"
      ],
      "metadata": {
        "id": "nzKNgHv1vTUr"
      }
    },
    {
      "cell_type": "code",
      "source": [
        "def filter_vowels(chars):\n",
        "  vowels = ['a', 'e', 'i', 'o', 'u']\n",
        "  filtered_chars = []\n",
        "\n",
        "  for char in chars:\n",
        "    if char.lower() in vowels:\n",
        "      filtered_chars.append(char)\n",
        "\n",
        "  return filtered_chars \n",
        "\n",
        "chars = ['a', 'b', 'c', 'd', 'e', 'f', 'g', 'h', 'i', 'j']\n",
        "\n",
        "filtered_chars_func = filter_vowels(chars)\n",
        "\n",
        "# filter vowels using the filter function and the filter_vowels function\n",
        "filtered_chars = list(filter(lambda x: x.lower() in ['a', 'e', 'i', 'o', 'u'], chars))\n",
        "\n",
        "\n",
        "# print the filtered characters\n",
        "print(\"Filtered characters using filter function:\", filtered_chars)\n",
        "print(\"Filtered characters using filter_vowels function:\", filtered_chars_func)"
      ],
      "metadata": {
        "id": "upUINp-OvalM",
        "colab": {
          "base_uri": "https://localhost:8080/"
        },
        "outputId": "1bbcb342-605a-41d6-ff3d-81738483d8bf"
      },
      "execution_count": 7,
      "outputs": [
        {
          "output_type": "stream",
          "name": "stdout",
          "text": [
            "Filtered characters using filter function: ['a', 'e', 'i']\n",
            "Filtered characters using filter_vowels function: ['a', 'e', 'i']\n"
          ]
        }
      ]
    },
    {
      "cell_type": "markdown",
      "source": [
        "## 26. Write a program to double all the numbers of the list using normal function and Implement the same using map function\n"
      ],
      "metadata": {
        "id": "IKfpSnz5vqLT"
      }
    },
    {
      "cell_type": "code",
      "source": [
        "def double_numbers(numbers):\n",
        "  doubled_numbers = []\n",
        "\n",
        "  for num in numbers:\n",
        "    doubled_numbers.append(num*2)\n",
        "\n",
        "  return doubled_numbers\n",
        "\n",
        "numbers = [1, 2, 3, 4, 5]\n",
        "\n",
        "doubled_numbers = list(map(lambda x:x*2, numbers))\n",
        "doubled_numbers_func =  double_numbers(numbers)\n",
        "\n",
        "print(\"Doubled numbers using map function:\", doubled_numbers)\n",
        "print(\"Doubled numbers using double_numbers function:\", doubled_numbers_func)"
      ],
      "metadata": {
        "id": "k49qJ4MCynV8"
      },
      "execution_count": null,
      "outputs": []
    },
    {
      "cell_type": "markdown",
      "source": [
        "## 25. Write a function to calculate cube of a number and implement the same using anonymous function called lambda\n"
      ],
      "metadata": {
        "id": "D1hZYlSnzt8z"
      }
    },
    {
      "cell_type": "code",
      "source": [
        "def cube(x):\n",
        "    return x**3\n",
        "\n",
        "\n",
        "result = cube(5)\n",
        "print(\"Cube of 5 using normal function:\", result)\n",
        "\n",
        "# use an anonymous lambda function to calculate the cube of 5\n",
        "cube_lambda = lambda x:x**3\n",
        "result_lambda = cube_lambda(5)\n",
        "print(\"Cube of 5 using lambda function:\", result_lambda)"
      ],
      "metadata": {
        "id": "B4DyZ2hgz4ND"
      },
      "execution_count": null,
      "outputs": []
    },
    {
      "cell_type": "markdown",
      "source": [
        "## 24. To implement a python program to handle multiple exceptions (min 5 exceptions) implement all the types of errors that can be handled in try-except block."
      ],
      "metadata": {
        "id": "hehLykN41rCY"
      }
    },
    {
      "cell_type": "code",
      "source": [
        "# define a function to handle exceptions\n",
        "def handle_exceptions():\n",
        "    try:\n",
        "        # division by zero\n",
        "        num = 1 / 0\n",
        "    except ZeroDivisionError:\n",
        "        print(\"Error: division by zero\")\n",
        "\n",
        "    try:\n",
        "        # accessing a non-existent index of a list\n",
        "        my_list = [1, 2, 3]\n",
        "        item = my_list[3]\n",
        "    except IndexError:\n",
        "        print(\"Error: index out of range\")\n",
        "\n",
        "    try:\n",
        "        # converting a string to an integer\n",
        "        my_string = \"hello\"\n",
        "        my_num = int(my_string)\n",
        "    except ValueError:\n",
        "        print(\"Error: invalid conversion to integer\")\n",
        "\n",
        "    try:\n",
        "        # accessing a non-existent attribute of an object\n",
        "        my_dict = {\"key\": \"value\"}\n",
        "        my_val = my_dict[\"nonexistent_key\"]\n",
        "    except KeyError:\n",
        "        print(\"Error: key does not exist\")\n",
        "\n",
        "    try:\n",
        "        # attempting to call a non-callable object\n",
        "        my_num = 1234\n",
        "        my_num()\n",
        "    except TypeError:\n",
        "        print(\"Error: object is not callable\")\n",
        "\n",
        "# call the handle_exceptions function\n",
        "handle_exceptions()"
      ],
      "metadata": {
        "id": "VbeQ07Fg7dLB"
      },
      "execution_count": null,
      "outputs": []
    },
    {
      "cell_type": "markdown",
      "source": [
        "## 23. Write a Python program to calculate the sum of first 5 natural numbers using recursion."
      ],
      "metadata": {
        "id": "lx6Qt7E674CB"
      }
    },
    {
      "cell_type": "code",
      "source": [
        "def sum_natural_numbers(n):\n",
        "    if n == 1:\n",
        "        return 1\n",
        "    else:\n",
        "        return n + sum_natural_numbers(n - 1)\n",
        "\n",
        "# calculate the sum of the first 5 natural numbers using the sum_natural_numbers function\n",
        "result = sum_natural_numbers(5)\n",
        "\n",
        "# print the result\n",
        "print(\"The sum of the first 5 natural numbers is:\", result)"
      ],
      "metadata": {
        "id": "zVCQwTmR95T_"
      },
      "execution_count": null,
      "outputs": []
    },
    {
      "cell_type": "markdown",
      "source": [
        "## 22. To implement a python program to define user defined functions to handle multiple exceptions (min 5 exceptions)  (Revision Must)"
      ],
      "metadata": {
        "id": "MWRmq3Di-MLY"
      }
    },
    {
      "cell_type": "code",
      "source": [
        "# define a function to handle a ZeroDivisionError\n",
        "def handle_zero_division_error():\n",
        "    try:\n",
        "        num = 1 / 0\n",
        "    except ZeroDivisionError:\n",
        "        print(\"Error: division by zero\")\n",
        "\n",
        "# define a function to handle an IndexError\n",
        "def handle_index_error():\n",
        "    try:\n",
        "        my_list = [1, 2, 3]\n",
        "        item = my_list[3]\n",
        "    except IndexError:\n",
        "        print(\"Error: index out of range\")\n",
        "\n",
        "# define a function to handle a ValueError\n",
        "def handle_value_error():\n",
        "    try:\n",
        "        my_string = \"hello\"\n",
        "        my_num = int(my_string)\n",
        "    except ValueError:\n",
        "        print(\"Error: invalid conversion to integer\")\n",
        "\n",
        "# define a function to handle a KeyError\n",
        "def handle_key_error():\n",
        "    try:\n",
        "        my_dict = {\"key\": \"value\"}\n",
        "        my_val = my_dict[\"nonexistent_key\"]\n",
        "    except KeyError:\n",
        "        print(\"Error: key does not exist\")\n",
        "\n",
        "# define a function to handle a TypeError\n",
        "def handle_type_error():\n",
        "    try:\n",
        "        my_num = 1234\n",
        "        my_num()\n",
        "    except TypeError:\n",
        "        print(\"Error: object is not callable\")\n",
        "\n",
        "# call the exception handling functions\n",
        "handle_zero_division_error()\n",
        "handle_index_error()\n",
        "handle_value_error()\n",
        "handle_key_error()\n",
        "handle_type_error()"
      ],
      "metadata": {
        "id": "EcQUZJ44_fZw"
      },
      "execution_count": null,
      "outputs": []
    },
    {
      "cell_type": "markdown",
      "source": [
        "## 21. Write a python program to implement a python program to implement Linear Search Algorithm using function"
      ],
      "metadata": {
        "id": "JFL_EJC2IF-O"
      }
    },
    {
      "cell_type": "code",
      "source": [
        "arr = [i for i in range(10)]\n",
        "flag = False\n",
        "toFind = 5\n",
        "\n",
        "for i in range(len(arr)):\n",
        "  if(arr[i]==toFind):\n",
        "    flag=True\n",
        "\n",
        "if(flag):\n",
        "  print(\"Found\")\n",
        "else: \n",
        "  print(\"Not found\")  "
      ],
      "metadata": {
        "id": "-ceoNdJlILXd"
      },
      "execution_count": null,
      "outputs": []
    },
    {
      "cell_type": "markdown",
      "source": [
        "## 20. Write a python program to create a Bank class where deposits and withdrawals can be handled by using instance methods."
      ],
      "metadata": {
        "id": "nFB8w9ezs5uE"
      }
    },
    {
      "cell_type": "code",
      "source": [
        "class Bank:\n",
        "  def __init__(self, balance=0):\n",
        "    self.balance = balance\n",
        "  \n",
        "  def deposit(self, amt):\n",
        "    self.balance += amt\n",
        "    print(f\"Deposited {amt}. New balance is {self.balance}\")\n",
        "\n",
        "  def withdraw(self, amt):\n",
        "    if(amt>self.balance):\n",
        "       print(\"Insufficient balance\")\n",
        "    else:\n",
        "       self.balance -= amt\n",
        "       print(f\"Withdrawn {amt}. New balance is {self.balance}\")\n",
        "\n",
        "\n",
        "bank_acc = Bank(1000)\n",
        "\n",
        "bank_acc.deposit(500)\n",
        "\n",
        "bank_acc.withdraw(200)\n",
        "\n",
        "bank_acc.withdraw(1500)"
      ],
      "metadata": {
        "id": "VbbyFZ5utQF5"
      },
      "execution_count": null,
      "outputs": []
    },
    {
      "cell_type": "markdown",
      "source": [
        "## 19. Write a Python class named Circle constructed by a radius and two methods which will compute the area and the perimeter of a circle"
      ],
      "metadata": {
        "id": "uCIG2dxmuMpE"
      }
    },
    {
      "cell_type": "code",
      "source": [
        "class Circle:\n",
        "  def __init__(self, radius):\n",
        "    self.radius = radius\n",
        "    print(f\"Circle with radius {radius} created\")\n",
        "  \n",
        "  def area(self):\n",
        "    return 3.14 * (self.radius ** 2)\n",
        "\n",
        "  def perimeter(self):\n",
        "    return 2*3.14*self.radius\n",
        "\n",
        "\n",
        "c = Circle(5);\n",
        "print(f\"Area: {c.area()}\")\n",
        "print(f\"Perimeter: {c.perimeter()}\")\n"
      ],
      "metadata": {
        "id": "05loEAiHuzv5"
      },
      "execution_count": null,
      "outputs": []
    },
    {
      "cell_type": "markdown",
      "source": [
        "## 18. Declare a Class with class-name Student which accepts the Student details, creates an inner class of Student Marks with a constructor that takes marks as arguments and returns the total and percentage of marks along with the student details\n"
      ],
      "metadata": {
        "id": "-UIFYKG4vtRZ"
      }
    },
    {
      "cell_type": "code",
      "source": [
        "class Student:\n",
        "    def __init__(self, name, roll_no, age):\n",
        "        self.name = name\n",
        "        self.roll_no = roll_no\n",
        "        self.age = age\n",
        "\n",
        "    class StudentMarks:\n",
        "        def __init__(self, student, marks):\n",
        "            self.student = student\n",
        "            self.marks = marks\n",
        "\n",
        "        def calculate_total_marks(self):\n",
        "            return sum(self.marks)\n",
        "\n",
        "        def calculate_percentage(self):\n",
        "            total_marks = self.calculate_total_marks()\n",
        "            return (total_marks / (len(self.marks) * 100)) * 100\n",
        "\n",
        "        def get_student_details(self):\n",
        "            total_marks = self.calculate_total_marks()\n",
        "            percentage = self.calculate_percentage()\n",
        "            return f\"Name: {self.student.name}\\nRoll No: {self.student.roll_no}\\nAge: {self.student.age}\\nTotal Marks: {total_marks}\\nPercentage: {percentage}%\"\n",
        "\n",
        "\n",
        "# Create a Student object with the student details\n",
        "student = Student(\"John Doe\", \"1234\", 20)\n",
        "\n",
        "# Create a StudentMarks object with the marks and the student object\n",
        "marks = [80, 85, 90, 95]\n",
        "student_marks = student.StudentMarks(student, marks)\n",
        "\n",
        "# Get the student details and marks\n",
        "print(student_marks.get_student_details())\n",
        "\n"
      ],
      "metadata": {
        "id": "x6yhAxVuyd2Q"
      },
      "execution_count": null,
      "outputs": []
    },
    {
      "cell_type": "markdown",
      "source": [
        "## 17. Write a menu driven program to demonstrate OOP in python"
      ],
      "metadata": {
        "id": "rfepFw0R0PoB"
      }
    },
    {
      "cell_type": "code",
      "source": [
        "class Employee:\n",
        "  total_employees = 0;\n",
        "\n",
        "  def __init__(self, emp_id, name, dept, salary):\n",
        "    self.emp_id = emp_id\n",
        "    self.name = name\n",
        "    self.dept = dept \n",
        "    self.salary = salary \n",
        "    Employee.total_employees += 1\n",
        "\n",
        "  def __str__(self):\n",
        "    return f\"name: {self.name} salary: {self.salary:.2f}\" \n",
        "\n",
        "  def update_salary(self, new_salary):\n",
        "    self.salary = new_salary\n",
        "\n",
        "\n",
        "class Manager(Employee):\n",
        "  def __init__(self, emp_id, name, dept, salary, team_size):\n",
        "    super().__init__(emp_id, name, dept, salary)\n",
        "    self.team_size = team_size\n",
        "\n",
        "  def __str__(self):\n",
        "    return f\"Manager {super().__str__()} team size: {self.team_size}\"\n",
        "\n",
        "\n",
        "class Staff(Employee):\n",
        "  def __init__(self, emp_id, name, dept, salary, job_role):\n",
        "    super().__init__(emp_id, name, dept, salary)\n",
        "    self.job_role = job_role\n",
        "\n",
        "  def __str__(self):\n",
        "    return f\"Staff: {super().__str__()} Job Role: {self.job_role}\" \n",
        "\n",
        "\n",
        "\n",
        "\n",
        "def main():\n",
        "    employees = []\n",
        "    while True:\n",
        "        print(\"Please select an operation:\")\n",
        "        print(\"1. Add Employee\")\n",
        "        print(\"2. Update Employee Salary\")\n",
        "        print(\"3. Print Total Number of Employees\")\n",
        "        print(\"4. Display Manager Details\")\n",
        "        print(\"5. Display Staff Details\")\n",
        "        print(\"0. Exit\")\n",
        "\n",
        "        choice = int(input(\"Enter your choice: \"))\n",
        "        if choice == 0:\n",
        "            print(\"Exiting program...\")\n",
        "            break\n",
        "\n",
        "        if choice == 1:\n",
        "            emp_id = int(input(\"Enter Employee ID: \"))\n",
        "            name = input(\"Enter Employee Name: \")\n",
        "            dept = input(\"Enter Employee Department: \")\n",
        "            salary = float(input(\"Enter Employee Salary: \"))\n",
        "            employee = Employee(emp_id, name, dept, salary)\n",
        "            employees.append(employee)\n",
        "\n",
        "        elif choice == 2:\n",
        "            emp_id = int(input(\"Enter Employee ID: \"))\n",
        "            for employee in employees:\n",
        "              if(emp_id == employee.emp_id):\n",
        "                new_salary = float(input(\"Enter new salary: \"))\n",
        "                employee.update_salary(new_salary)\n",
        "                print(\"Salary updated successfully!\")\n",
        "                break\n",
        "            else:\n",
        "                print(\"Employee not found.\")\n",
        "\n",
        "        elif choice == 3:\n",
        "            print(f\"Total Number of Employees: {Employee.total_employees}\")\n",
        "\n",
        "        elif choice == 4:\n",
        "            emp_id = int(input(\"Enter Manager ID: \"))\n",
        "            for employee in employees:\n",
        "                if isinstance(employee, Manager) and employee.emp_id == emp_id:\n",
        "                    print(employee)\n",
        "                    break\n",
        "            else:\n",
        "                print(\"Manager not found.\")\n",
        "\n",
        "        elif choice == 5:\n",
        "            emp_id = int(input(\"Enter Staff ID: \"))\n",
        "            for employee in employees:\n",
        "                if isinstance(employee, Staff) and employee.emp_id == emp_id:\n",
        "                    print(employee)\n",
        "                    break\n",
        "            else:\n",
        "                print(\"Staff not found.\")\n",
        "\n",
        "        else:\n",
        "            print(\"Invalid choice. Please try again.\")\n",
        "\n",
        "# Call the main function\n",
        "main()"
      ],
      "metadata": {
        "id": "D8RfZHYr6HYb"
      },
      "execution_count": null,
      "outputs": []
    },
    {
      "cell_type": "markdown",
      "source": [
        "## 16. Write a Python program to declare a class Calculate which calculates the Area of Circle, Triangle and Rectangle Using Method Overriding."
      ],
      "metadata": {
        "id": "vlIyH8SkI7J-"
      }
    },
    {
      "cell_type": "code",
      "source": [
        "class Calculate:\n",
        "  def area(self):\n",
        "    pass \n",
        "\n",
        "class Circle(Calculate):\n",
        "  def __init__(self, radius):\n",
        "    self.radius = radius\n",
        "\n",
        "  def area(self):\n",
        "    return 3.14 * self.radius * self.radius\n",
        "\n",
        "\n",
        "class Triangle(Calculate):\n",
        "  def __init__(self, base, height):\n",
        "    self.base = base\n",
        "    self.height = height\n",
        "\n",
        "  def area(self):\n",
        "    return 0.5*self.base*self.height\n",
        "\n",
        "\n",
        "class Rectangle(Calculate):\n",
        "    def __init__(self, length, width):\n",
        "        self.length = length\n",
        "        self.width = width\n",
        "\n",
        "    def area(self):\n",
        "        return self.length * self.width\n",
        "\n",
        "\n",
        "radius = int(input(\"Enter Radius:\" ))\n",
        "c = Circle(radius)\n",
        "t = Triangle(5, 10)\n",
        "r = Rectangle(3, 7)\n",
        "\n",
        "print(\"Area of circle:\", c.area())\n",
        "print(\"Area of triangle:\", t.area())\n",
        "print(\"Area of rectangle:\", r.area())"
      ],
      "metadata": {
        "colab": {
          "base_uri": "https://localhost:8080/"
        },
        "id": "5_ijAk8wOU94",
        "outputId": "b1c547be-cbed-49f9-fdfe-32d38bb346f6"
      },
      "execution_count": null,
      "outputs": [
        {
          "output_type": "stream",
          "name": "stdout",
          "text": [
            "Enter Radius:5\n",
            "Area of circle: 78.5\n",
            "Area of triangle: 25.0\n",
            "Area of rectangle: 21\n"
          ]
        }
      ]
    },
    {
      "cell_type": "markdown",
      "source": [
        "## 15. Write a Python program to declare a class Calculate which calculates the Area of Circle, Triangle and Rectangle Using Method Overloading."
      ],
      "metadata": {
        "id": "BWcGoENYQsLI"
      }
    },
    {
      "cell_type": "code",
      "source": [
        "class Calculate:\n",
        "    def area(self, shape, a=None, b=None):\n",
        "        if shape == 'circle' and a is not None:\n",
        "            return 3.14 * a * a\n",
        "        elif shape == 'triangle' and a is not None and b is not None:\n",
        "            return 0.5 * a * b\n",
        "        elif shape == 'rectangle' and a is not None and b is not None:\n",
        "            return a * b\n",
        "        else:\n",
        "            return None\n",
        "\n",
        "# Test the class\n",
        "c = Calculate()\n",
        "print(\"Area of circle:\", c.area('circle', 5))\n",
        "print(\"Area of triangle:\", c.area('triangle', 4, 6))\n",
        "print(\"Area of rectangle:\", c.area('rectangle', 3, 7))\n"
      ],
      "metadata": {
        "colab": {
          "base_uri": "https://localhost:8080/"
        },
        "id": "oGy7ucDkRJ__",
        "outputId": "f2f2c029-c06a-4027-dd35-da076668559c"
      },
      "execution_count": null,
      "outputs": [
        {
          "output_type": "stream",
          "name": "stdout",
          "text": [
            "Area of circle: 78.5\n",
            "Area of triangle: 24\n",
            "Area of rectangle: 21\n"
          ]
        }
      ]
    },
    {
      "cell_type": "markdown",
      "source": [
        "## 14. Write a Python program to create a class Vehicle having methods vehicle_info() and mode_transport() and derive two subclasses Bike and Train from it.Override the superclass methods inside the two subclasses."
      ],
      "metadata": {
        "id": "0A9vkE3ERq64"
      }
    },
    {
      "cell_type": "code",
      "source": [
        "class Vehicle:\n",
        "  def __init__(self, brand, model):\n",
        "    self.brand = brand\n",
        "    self.model = model\n",
        "\n",
        "  def vehicle_info(self):\n",
        "    print(\"Brand:\", self.brand)\n",
        "    print(\"Model:\", self.model)\n",
        "\n",
        "  def mode_transport(self):\n",
        "    print(f\"Travels on road or track\")\n",
        "\n",
        "class Bike(Vehicle):\n",
        "  def __init__(self, brand, model, displacement):\n",
        "    super().__init__(brand, model)\n",
        "    self.displacement = displacement\n",
        "\n",
        "  def vehicle_info(self):\n",
        "    print(\"Brand:\", self.brand)\n",
        "    print(\"Model:\", self.model)\n",
        "    print(\"Displacement:\", self.displacement, \"cc\")\n",
        "\n",
        "  def mode_transport(self):\n",
        "    print(\"Travels on roads\")\n",
        "\n",
        "\n",
        "class Train(Vehicle):\n",
        "    def __init__(self, brand, model, capacity):\n",
        "        super().__init__(brand, model)\n",
        "        self.capacity = capacity\n",
        "    \n",
        "    def vehicle_info(self):\n",
        "        print(\"Brand:\", self.brand)\n",
        "        print(\"Model:\", self.model)\n",
        "        print(\"Capacity:\", self.capacity, \"passengers\")\n",
        "    \n",
        "    def mode_transport(self):\n",
        "        print(\"Travels on tracks\")\n",
        "  \n",
        "\n",
        "v = Vehicle(\"Toyota\", \"Camry\")\n",
        "v.vehicle_info()\n",
        "v.mode_transport()\n",
        "\n",
        "b = Bike(\"Honda\", \"CBR\", 1000)\n",
        "b.vehicle_info()\n",
        "b.mode_transport()\n",
        "\n",
        "t = Train(\"Amtrak\", \"Acela\", 400)\n",
        "t.vehicle_info()\n",
        "t.mode_transport()"
      ],
      "metadata": {
        "colab": {
          "base_uri": "https://localhost:8080/"
        },
        "id": "FWIig3eMTEYn",
        "outputId": "f21185b8-6940-47b6-a279-304ac90898a4"
      },
      "execution_count": null,
      "outputs": [
        {
          "output_type": "stream",
          "name": "stdout",
          "text": [
            "Brand: Toyota\n",
            "Model: Camry\n",
            "Travels on road or track\n",
            "Brand: Honda\n",
            "Model: CBR\n",
            "Displacement: 1000 cc\n",
            "Travels on roads\n",
            "Brand: Amtrak\n",
            "Model: Acela\n",
            "Capacity: 400 passengers\n",
            "Travels on tracks\n"
          ]
        }
      ]
    },
    {
      "cell_type": "markdown",
      "source": [
        "## 13. Write a Python program to create any user defined module and call its functionalities in another program\n"
      ],
      "metadata": {
        "id": "_9RJDpVlTDVs"
      }
    },
    {
      "cell_type": "code",
      "source": [
        "# my_module.py\n",
        "def greet(name):\n",
        "    print(f\"Hello {name}!\")\n",
        "\n",
        "def multiply(a, b):\n",
        "    return a*b\n",
        "\n",
        "\n",
        "# main.py\n",
        "import my_module\n",
        "\n",
        "my_module.greet(\"Stalen\")\n",
        "print(my_module.multiply(2, 3))"
      ],
      "metadata": {
        "id": "ORkjuAuiTLPt"
      },
      "execution_count": null,
      "outputs": []
    },
    {
      "cell_type": "markdown",
      "source": [
        "## 12. Create a user defined module to implement a data structure queue. The module should perform the following functions:"
      ],
      "metadata": {
        "id": "VaPL2TNGSMtF"
      }
    },
    {
      "cell_type": "code",
      "source": [
        "# my_queue.py\n",
        "class Queue:\n",
        "    def __init__(self):\n",
        "        self.queue = []\n",
        "    \n",
        "    def push(self, value):\n",
        "        self.queue.append(value)\n",
        "    \n",
        "    def pop(self):\n",
        "        if self.is_empty():\n",
        "            return None\n",
        "        return self.queue.pop(0)\n",
        "    \n",
        "    def rotate(self, n):\n",
        "        n = n % len(self.queue)\n",
        "        self.queue = self.queue[n:] + self.queue[:n]\n",
        "    \n",
        "    def extend(self, values):\n",
        "        self.queue.extend(values)\n",
        "    \n",
        "    def is_empty(self):\n",
        "        return len(self.queue) == 0\n",
        "\n",
        "\n",
        "#main.py\n",
        "from my_queue import Queue\n",
        "\n",
        "q = Queue()\n",
        "\n",
        "q.push(1)\n",
        "q.push(2)\n",
        "q.push(3)       # 123\n",
        "print(q.pop()) # Output: 1      # 23\n",
        "\n",
        "q.rotate(1)                     # 32\n",
        "\n",
        "print(q.pop()) # Output: 3      #2\n",
        "\n",
        "q.extend([4,5,6])               #2456\n",
        "\n",
        "print(q.pop()) # Output: 2      #456\n"
      ],
      "metadata": {
        "id": "nhOs8876SUPJ"
      },
      "execution_count": null,
      "outputs": []
    },
    {
      "cell_type": "markdown",
      "source": [
        "## 11. Write a python program to Implement queue using deque (deck) and show push element from the rear side, pop element from the front side, rotate and extend queue."
      ],
      "metadata": {
        "id": "FLHHQgEYR5FJ"
      }
    },
    {
      "cell_type": "code",
      "source": [
        "from collections import deque\n",
        "\n",
        "# Creating an empty deque\n",
        "queue = deque()\n",
        "\n",
        "# Adding elements to the rear of the queue\n",
        "queue.append('apple')\n",
        "queue.append('banana')\n",
        "queue.append('cherry')\n",
        "print(\"Queue after adding elements:\", queue)\n",
        "\n",
        "# Removing elements from the front of the queue\n",
        "first_element = queue.popleft()\n",
        "print(\"Removed element:\", first_element)\n",
        "print(\"Queue after removing element:\", queue)\n",
        "\n",
        "# Rotating the queue by n positions to the right\n",
        "n = 1\n",
        "queue.rotate(n)\n",
        "print(\"Queue after rotating by\", n, \"positions to the right:\", queue)\n",
        "\n",
        "# Extending the queue with new elements\n",
        "new_elements = ['dates', 'elderberry']\n",
        "queue.extend(new_elements)\n",
        "print(\"Queue after extending with new elements:\", queue)\n"
      ],
      "metadata": {
        "colab": {
          "base_uri": "https://localhost:8080/"
        },
        "id": "D-Th0O01R82Q",
        "outputId": "2cbe4473-a324-4955-8efb-b07e1722b918"
      },
      "execution_count": null,
      "outputs": [
        {
          "output_type": "stream",
          "name": "stdout",
          "text": [
            "Queue after adding elements: deque(['apple', 'banana', 'cherry'])\n",
            "Removed element: apple\n",
            "Queue after removing element: deque(['banana', 'cherry'])\n",
            "Queue after rotating by 1 positions to the right: deque(['cherry', 'banana'])\n",
            "Queue after extending with new elements: deque(['cherry', 'banana', 'dates', 'elderberry'])\n"
          ]
        }
      ]
    },
    {
      "cell_type": "markdown",
      "source": [
        "## 10. Write a python program to Create a class Student to input data members rollnumber, name, age with a display method to print their details of 5 students ,using pickle module.Perform serialization and deserialization operation using pickle\n"
      ],
      "metadata": {
        "id": "sltFnumuQZoV"
      }
    },
    {
      "cell_type": "code",
      "source": [
        "import pickle\n",
        "\n",
        "class Student:\n",
        "    def __init__(self, rollnumber, name, age):\n",
        "        self.rollnumber = rollnumber\n",
        "        self.name = name\n",
        "        self.age = age\n",
        "    \n",
        "    def display(self):\n",
        "        print(\"Roll Number:\", self.rollnumber)\n",
        "        print(\"Name:\", self.name)\n",
        "        print(\"Age:\", self.age)\n",
        "        print()\n",
        "\n",
        "# Create instances of Student class\n",
        "student1 = Student(101, \"John\", 20)\n",
        "student2 = Student(102, \"Mary\", 21)\n",
        "student3 = Student(103, \"Bob\", 19)\n",
        "student4 = Student(104, \"Alice\", 20)\n",
        "student5 = Student(105, \"Jack\", 22)\n",
        "\n",
        "# Serialize student data using pickle\n",
        "with open(\"students.pickle\", \"wb\") as f:\n",
        "    pickle.dump([student1, student2, student3, student4, student5], f)\n",
        "\n",
        "# Deserialize student data using pickle\n",
        "with open(\"students.pickle\", \"rb\") as f:\n",
        "    students = pickle.load(f)\n",
        "\n",
        "# Display details of deserialized students\n",
        "for student in students:\n",
        "    student.display()\n"
      ],
      "metadata": {
        "colab": {
          "base_uri": "https://localhost:8080/"
        },
        "id": "e5Akl8bfQdzh",
        "outputId": "fe655fb3-07a3-4479-d241-9b783ae262ac"
      },
      "execution_count": null,
      "outputs": [
        {
          "output_type": "stream",
          "name": "stdout",
          "text": [
            "Roll Number: 101\n",
            "Name: John\n",
            "Age: 20\n",
            "\n",
            "Roll Number: 102\n",
            "Name: Mary\n",
            "Age: 21\n",
            "\n",
            "Roll Number: 103\n",
            "Name: Bob\n",
            "Age: 19\n",
            "\n",
            "Roll Number: 104\n",
            "Name: Alice\n",
            "Age: 20\n",
            "\n",
            "Roll Number: 105\n",
            "Name: Jack\n",
            "Age: 22\n",
            "\n"
          ]
        }
      ]
    },
    {
      "cell_type": "markdown",
      "source": [
        "## 9. Write a Python program to create, write, read, append and close a file using File manipulating"
      ],
      "metadata": {
        "id": "taQ81YnsV5DW"
      }
    },
    {
      "cell_type": "code",
      "source": [
        "# file = open(\"example.txt\", \"w\")\n",
        "# # write some text to the file\n",
        "# file.write(\"Hello, world!\\n\")\n",
        "# file.close()\n",
        "\n",
        "\n",
        "# file = open(\"example.txt\", \"r\")\n",
        "# # read the contents of the file\n",
        "# contents = file.read()\n",
        "# print(contents)  # Output: \"Hello, world!\\n\"\n",
        "# file.close()\n",
        "\n",
        "\n",
        "# file = open(\"example.txt\", \"a\")\n",
        "# # append some text to the file\n",
        "# file.write(\"This is some additional text.\\n\")\n",
        "# file.close()\n",
        "\n",
        "\n",
        "file = open(\"edited.txt\", \"w\")\n",
        "\n",
        "#write something to the file \n",
        "file.write(\"Hello world!\")\n",
        "file.close \n",
        "\n",
        "file = open(\"edited.txt\", \"r\")\n",
        "contents = file.read()\n",
        "print(contents)\n",
        "\n",
        "file = open(\"edited.txt\", \"a\")\n",
        "file.write(\"Stalen is duck\")\n",
        "file.close()\n",
        "\n",
        "file = open(\"edited.txt\", \"r\")\n",
        "contents = file.read()\n",
        "print(contents)"
      ],
      "metadata": {
        "id": "LuB0vx-Ocngd"
      },
      "execution_count": null,
      "outputs": []
    },
    {
      "cell_type": "markdown",
      "source": [
        "## 8. Write a program to create a database. Create a table with five columns and 5 rows. Perform queries on the database. (extract all record, few record, with some condition)"
      ],
      "metadata": {
        "id": "fL8vpxbIcov8"
      }
    },
    {
      "cell_type": "code",
      "source": [
        "import sqlite3\n",
        "\n",
        "#create a new database and connect to it\n",
        "conn = sqlite3.connect('example.db')\n",
        "\n",
        "# create a new table with five columns\n",
        "conn.execute('''CREATE TABLE IF NOT EXISTS example_table\n",
        "             (id INTEGER PRIMARY KEY,\n",
        "             col1 TEXT,\n",
        "             col2 TEXT,\n",
        "             col3 INTEGER,\n",
        "             col4 REAL);''')\n",
        "\n",
        "# insert some data into the table\n",
        "conn.execute(\"INSERT INTO example_table (col1, col2, col3, col4) VALUES (?, ?, ?, ?)\", (\"foo\", \"bar\", 42, 3.14159))\n",
        "conn.execute(\"INSERT INTO example_table (col1, col2, col3, col4) VALUES (?, ?, ?, ?)\", (\"hello\", \"world\", 123, 2.71828))\n",
        "conn.execute(\"INSERT INTO example_table (col1, col2, col3, col4) VALUES (?, ?, ?, ?)\", (\"spam\", \"eggs\", 456, 1.61803))\n",
        "conn.execute(\"INSERT INTO example_table (col1, col2, col3, col4) VALUES (?, ?, ?, ?)\", (\"apple\", \"banana\", 789, 0.57721))\n",
        "conn.execute(\"INSERT INTO example_table (col1, col2, col3, col4) VALUES (?, ?, ?, ?)\", (\"alpha\", \"beta\", 999, 1.23456))\n",
        "\n",
        "# commit the changes to the database\n",
        "conn.commit()\n",
        "\n",
        "# extract all records\n",
        "print(\"All records:\")\n",
        "for row in conn.execute(\"SELECT * FROM example_table\"):\n",
        "    print(row)\n",
        "\n",
        "# extract a few records\n",
        "print(\"\\nFirst two records:\")\n",
        "for row in conn.execute(\"SELECT * FROM example_table LIMIT 2\"):\n",
        "    print(row)\n",
        "\n",
        "# extract records with a condition\n",
        "print(\"\\nRecords where col3 is greater than 500:\")\n",
        "for row in conn.execute(\"SELECT * FROM example_table WHERE col3 > 500\"):\n",
        "    print(row)\n",
        "\n",
        "# close the connection to the database\n",
        "conn.close()\n"
      ],
      "metadata": {
        "colab": {
          "base_uri": "https://localhost:8080/"
        },
        "id": "vfR3osBfd6Cs",
        "outputId": "ae750a43-9037-4fbd-fb88-a718f9763b33"
      },
      "execution_count": null,
      "outputs": [
        {
          "output_type": "stream",
          "name": "stdout",
          "text": [
            "All records:\n",
            "(1, 'foo', 'bar', 42, 3.14159)\n",
            "(2, 'hello', 'world', 123, 2.71828)\n",
            "(3, 'spam', 'eggs', 456, 1.61803)\n",
            "(4, 'apple', 'banana', 789, 0.57721)\n",
            "(5, 'alpha', 'beta', 999, 1.23456)\n",
            "\n",
            "First two records:\n",
            "(1, 'foo', 'bar', 42, 3.14159)\n",
            "(2, 'hello', 'world', 123, 2.71828)\n",
            "\n",
            "Records where col3 is greater than 500:\n",
            "(4, 'apple', 'banana', 789, 0.57721)\n",
            "(5, 'alpha', 'beta', 999, 1.23456)\n"
          ]
        }
      ]
    },
    {
      "cell_type": "markdown",
      "source": [
        "## 7. Write a python program to create login page using tkinter and\n"
      ],
      "metadata": {
        "id": "2gxVoUIDP7kD"
      }
    },
    {
      "cell_type": "code",
      "source": [
        "import tkinter as tk\n",
        "from tkinter import messagebox\n",
        "\n",
        "# Define function to validate login credentials\n",
        "def validate_login(username, password):\n",
        "    # Check if username and password match expected values\n",
        "    if username == \"admin\" and password == \"password\":\n",
        "        # Display success message and open main window\n",
        "        messagebox.showinfo(\"Login Successful\", \"Welcome, admin!\")\n",
        "        root.destroy()\n",
        "        main_window()\n",
        "    else:\n",
        "        # Display error message\n",
        "        messagebox.showerror(\"Login Error\", \"Invalid username or password.\")\n",
        "\n",
        "# Define function to create main window\n",
        "def main_window():\n",
        "    # Create main window\n",
        "    main = tk.Tk()\n",
        "    main.title(\"Main Window\")\n",
        "\n",
        "    # Create label and button in main window\n",
        "    label = tk.Label(main, text=\"Welcome to the main window!\")\n",
        "    label.pack(padx=10, pady=10)\n",
        "\n",
        "    button = tk.Button(main, text=\"Logout\", command=main.destroy)\n",
        "    button.pack(padx=10, pady=10)\n",
        "\n",
        "    # Run main event loop\n",
        "    main.mainloop()\n",
        "\n",
        "# Create login window\n",
        "root = tk.Tk()\n",
        "root.title(\"Login\")\n",
        "\n",
        "# Create username and password labels and entry fields\n",
        "username_label = tk.Label(root, text=\"Username:\")\n",
        "username_label.pack(padx=10, pady=10)\n",
        "\n",
        "username_entry = tk.Entry(root)\n",
        "username_entry.pack(padx=10, pady=10)\n",
        "\n",
        "password_label = tk.Label(root, text=\"Password:\")\n",
        "password_label.pack(padx=10, pady=10)\n",
        "\n",
        "password_entry = tk.Entry(root, show=\"*\")\n",
        "password_entry.pack(padx=10, pady=10)\n",
        "\n",
        "# Create login button\n",
        "login_button = tk.Button(root, text=\"Login\", command=lambda: validate_login(username_entry.get(), password_entry.get()))\n",
        "login_button.pack(padx=10, pady=10)\n",
        "\n",
        "# Run main event loop\n",
        "root.mainloop()"
      ],
      "metadata": {
        "id": "KYgr2l9fQBG-"
      },
      "execution_count": null,
      "outputs": []
    },
    {
      "cell_type": "markdown",
      "source": [
        "## 6. Write a python program to create frames using tkinter and create three buttons and a message box. Change the background color of the frame when buttons are pressed"
      ],
      "metadata": {
        "id": "etJJubTaPmBY"
      }
    },
    {
      "cell_type": "code",
      "source": [
        "import tkinter as tk\n",
        "from tkinter import messagebox\n",
        "\n",
        "# Define function to change frame background color\n",
        "def change_frame_color(frame, color):\n",
        "    frame.configure(background=color)\n",
        "\n",
        "# Create root window\n",
        "root = tk.Tk()\n",
        "\n",
        "# Create three frames with buttons and a message box\n",
        "frame1 = tk.Frame(root, width=200, height=200, bg=\"red\")\n",
        "frame1.pack(side=\"left\", padx=10, pady=10)\n",
        "\n",
        "button1 = tk.Button(frame1, text=\"Change Color\", command=lambda: change_frame_color(frame1, \"green\"))\n",
        "button1.pack(side=\"top\", padx=10, pady=10)\n",
        "\n",
        "frame2 = tk.Frame(root, width=200, height=200, bg=\"green\")\n",
        "frame2.pack(side=\"left\", padx=10, pady=10)\n",
        "\n",
        "button2 = tk.Button(frame2, text=\"Change Color\", command=lambda: change_frame_color(frame2, \"blue\"))\n",
        "button2.pack(side=\"top\", padx=10, pady=10)\n",
        "\n",
        "frame3 = tk.Frame(root, width=200, height=200, bg=\"blue\")\n",
        "frame3.pack(side=\"left\", padx=10, pady=10)\n",
        "\n",
        "button3 = tk.Button(frame3, text=\"Change Color\", command=lambda: change_frame_color(frame3, \"red\"))\n",
        "button3.pack(side=\"top\", padx=10, pady=10)\n",
        "\n",
        "message = tk.Message(root, text=\"Click a button to change the frame color.\")\n",
        "message.pack(side=\"bottom\", padx=10, pady=10)"
      ],
      "metadata": {
        "id": "e-5aJsf0PrWc"
      },
      "execution_count": null,
      "outputs": []
    },
    {
      "cell_type": "markdown",
      "source": [
        "## 5. Write a python program to create canvas using tikinter and create any three shapes using the same"
      ],
      "metadata": {
        "id": "Xqq6DUVSPN99"
      }
    },
    {
      "cell_type": "code",
      "source": [
        "import tkinter as tk\n",
        "\n",
        "# Create the root window\n",
        "root = tk.Tk()\n",
        "\n",
        "# Set the title and size of the window\n",
        "root.title(\"Canvas Example\")\n",
        "root.geometry(\"400x400\")\n",
        "\n",
        "# Create a canvas widget\n",
        "canvas = tk.Canvas(root, width=300, height=300, bg=\"white\")\n",
        "\n",
        "# Draw a rectangle\n",
        "canvas.create_rectangle(50, 50, 150, 150, fill=\"red\")\n",
        "\n",
        "# Draw an oval\n",
        "canvas.create_oval(100, 100, 200, 200, fill=\"green\")\n",
        "\n",
        "# Draw a line\n",
        "canvas.create_line(0, 0, 300, 300, width=3, fill=\"blue\")\n",
        "\n",
        "# Pack the canvas widget\n",
        "canvas.pack()\n",
        "\n",
        "# Start the main loop\n",
        "root.mainloop()\n"
      ],
      "metadata": {
        "id": "tXrlpAFvPUdH"
      },
      "execution_count": null,
      "outputs": []
    },
    {
      "cell_type": "markdown",
      "source": [
        "## 4. Write a Python program to implement Data Visualization techniques using advanced python libraries."
      ],
      "metadata": {
        "id": "L12KEs8xe-_t"
      }
    },
    {
      "cell_type": "code",
      "source": [
        "import pandas as pd\n",
        "import numpy as np\n",
        "import matplotlib.pyplot as plt\n",
        "import seaborn as sns\n",
        "\n",
        "# Create a CSV file of 10 records\n",
        "data = {\n",
        "    'Name':[\"Stalen\", \"Bomber\", \"Shawn\", \"Penguin\", \"Pie\", \"Albion\"],\n",
        "    'Age':[20, 18, 18, 20, 80, 19],\n",
        "    'Salary':[1000, 2000, 3000, 4000, 5000, 6000]\n",
        "}\n",
        "\n",
        "# Convert CSV file to Dataframe\n",
        "df = pd.DataFrame(data)\n",
        "df.to_csv('data.csv')\n",
        "\n",
        "# Show first 5 and last 5 records and size of the dataframe\n",
        "print(df.head())\n",
        "print(df.tail())\n",
        "print(df.shape)\n",
        "\n",
        "# Extract all columns\n",
        "print(df.columns)\n",
        "\n",
        "# Extract null values if any\n",
        "print(df.isnull().sum())\n",
        "\n",
        "# Extract first 3 rows and first 3 columns \n",
        "print(df.iloc[:3, :3])\n",
        "\n",
        "# Extract rows satisfying particular condition\n",
        "print(df[df['Age']>18])"
      ],
      "metadata": {
        "id": "LXSY7yrZNBhP"
      },
      "execution_count": null,
      "outputs": []
    },
    {
      "cell_type": "markdown",
      "source": [
        "## 3. Write a Python program to implement Client-Server Chat Application using TCP"
      ],
      "metadata": {
        "id": "V2LnIUiFN32Y"
      }
    },
    {
      "cell_type": "code",
      "source": [
        "# Server side code \n",
        "import socket\n",
        "import threading\n",
        "\n",
        "# Define the host IP address and port number\n",
        "HOST = 'localhost'\n",
        "PORT = 8000\n",
        "\n",
        "# Create a new socket object\n",
        "server_socket = socket.socket(socket.AF_INET, socket.SOCK_STREAM)\n",
        "\n",
        "# Bind the socket to the host and port\n",
        "server_socket.bind((HOST, PORT))\n",
        "\n",
        "# Listen for incoming connections\n",
        "server_socket.listen()\n",
        "\n",
        "# Create a list to keep track of all connected clients\n",
        "clients = []\n",
        "\n",
        "def handle_client(client_socket, client_address):\n",
        "    # Add the new client to the list of connected clients\n",
        "    clients.append(client_socket)\n",
        "\n",
        "    while True:\n",
        "        try:\n",
        "            # Receive data from the client\n",
        "            message = client_socket.recv(1024).decode('utf-8')\n",
        "            print(f'{client_address}: {message}')\n",
        "\n",
        "            # Send the message to all connected clients (except the sender)\n",
        "            for c in clients:\n",
        "                if c != client_socket:\n",
        "                    c.send(message.encode('utf-8'))\n",
        "        except:\n",
        "            # If there's an error, remove the client from the list of connected clients\n",
        "            clients.remove(client_socket)\n",
        "            client_socket.close()\n",
        "            break\n",
        "\n",
        "while True:\n",
        "    # Wait for a new client to connect\n",
        "    client_socket, client_address = server_socket.accept()\n",
        "    print(f'New connection from {client_address}')\n",
        "\n",
        "    # Start a new thread to handle the client's connection\n",
        "    thread = threading.Thread(target=handle_client, args=(client_socket, client_address))\n",
        "    thread.start()\n",
        "\n",
        "\n",
        "# Client-side code:\n",
        "import socket\n",
        "import threading\n",
        "\n",
        "# Define the host IP address and port number\n",
        "HOST = 'localhost'\n",
        "PORT = 8000\n",
        "\n",
        "# Create a new socket object\n",
        "client_socket = socket.socket(socket.AF_INET, socket.SOCK_STREAM)\n",
        "\n",
        "# Connect to the server\n",
        "client_socket.connect((HOST, PORT))\n",
        "\n",
        "def receive_messages():\n",
        "    while True:\n",
        "        try:\n",
        "            # Receive data from the server\n",
        "            message = client_socket.recv(1024).decode('utf-8')\n",
        "            print(message)\n",
        "        except:\n",
        "            # If there's an error, close the client socket\n",
        "            client_socket.close()\n",
        "            break\n",
        "\n",
        "def send_message():\n",
        "    while True:\n",
        "        # Get input from the user and send it to the server\n",
        "        message = input()\n",
        "        client_socket.send(message.encode('utf-8'))\n",
        "\n",
        "# Start two threads: one to receive messages from the server and one to send messages to the server\n",
        "receive_thread = threading.Thread(target=receive_messages)\n",
        "receive_thread.start()\n",
        "\n",
        "send_thread = threading.Thread(target=send_message)\n",
        "send_thread.start()\n"
      ],
      "metadata": {
        "id": "Jf45bsHJNyn7"
      },
      "execution_count": null,
      "outputs": []
    },
    {
      "cell_type": "markdown",
      "source": [
        "## 2. Write a python program to implement Client Server Communication using TCP / UDP Sockets. Connect to Server and show the message “Thank you for connecting”"
      ],
      "metadata": {
        "id": "Lovlzs2KN9-q"
      }
    },
    {
      "cell_type": "code",
      "source": [
        "# Using TCP \n",
        "# Server Side code \n",
        "import socket\n",
        "\n",
        "# Define the host IP address and port number\n",
        "HOST = 'localhost'\n",
        "PORT = 8000\n",
        "\n",
        "# Create a new socket object\n",
        "server_socket = socket.socket(socket.AF_INET, socket.SOCK_STREAM)\n",
        "\n",
        "# Bind the socket to the host and port\n",
        "server_socket.bind((HOST, PORT))\n",
        "\n",
        "# Listen for incoming connections\n",
        "server_socket.listen()\n",
        "\n",
        "while True:\n",
        "    # Wait for a new client to connect\n",
        "    client_socket, client_address = server_socket.accept()\n",
        "    print(f'New connection from {client_address}')\n",
        "\n",
        "    # Send a message to the client\n",
        "    message = 'Thank you for connecting'\n",
        "    client_socket.send(message.encode('utf-8'))\n",
        "\n",
        "    # Close the connection with the client\n",
        "    client_socket.close()\n",
        "\n",
        "\n",
        "# Using Client side code \n",
        "import socket\n",
        "\n",
        "# Define the host IP address and port number\n",
        "HOST = 'localhost'\n",
        "PORT = 8000\n",
        "\n",
        "# Create a new socket object\n",
        "client_socket = socket.socket(socket.AF_INET, socket.SOCK_STREAM)\n",
        "\n",
        "# Connect to the server\n",
        "client_socket.connect((HOST, PORT))\n",
        "\n",
        "# Receive data from the server\n",
        "data = client_socket.recv(1024).decode('utf-8')\n",
        "print(data)\n",
        "\n",
        "# Close the connection with the server\n",
        "client_socket.close()\n",
        "\n",
        "\n",
        "\n",
        "\n",
        "# Using UDP \n",
        "# Server sde code \n",
        "import socket\n",
        "\n",
        "# Define the host IP address and port number\n",
        "HOST = 'localhost'\n",
        "PORT = 8000\n",
        "\n",
        "# Create a new socket object\n",
        "server_socket = socket.socket(socket.AF_INET, socket.SOCK_DGRAM)\n",
        "\n",
        "# Bind the socket to the host and port\n",
        "server_socket.bind((HOST, PORT))\n",
        "\n",
        "while True:\n",
        "    # Wait for a message from a client\n",
        "    message, client_address = server_socket.recvfrom(1024)\n",
        "    print(f'New message from {client_address}: {message.decode(\"utf-8\")}')\n",
        "\n",
        "    # Send a message to the client\n",
        "    message = 'Thank you for connecting'\n",
        "    server_socket.sendto(message.encode('utf-8'), client_address)\n",
        "\n",
        "\n",
        "\n",
        "# Client side code \n",
        "import socket\n",
        "\n",
        "# Define the host IP address and port number\n",
        "HOST = 'localhost'\n",
        "PORT = 8000\n",
        "\n",
        "# Create a new socket object\n",
        "client_socket = socket.socket(socket.AF_INET, socket.SOCK_DGRAM)\n",
        "\n",
        "# Send a message to the server\n",
        "message = 'Hello, server'\n",
        "client_socket.sendto(message.encode('utf-8'), (HOST, PORT))\n",
        "\n",
        "# Receive data from the server\n",
        "data, server_address = client_socket.recvfrom(1024)\n",
        "print(data.decode('utf-8'))\n",
        "\n",
        "# Close the connection with the server\n",
        "client_socket.close()"
      ],
      "metadata": {
        "id": "y0qLIr0YOS0b"
      },
      "execution_count": null,
      "outputs": []
    },
    {
      "cell_type": "markdown",
      "source": [
        "## 1. Write a python program to build a REST API using flask"
      ],
      "metadata": {
        "id": "3_603jHXOwSy"
      }
    },
    {
      "cell_type": "code",
      "source": [
        "from flask import Flask, jsonify, request\n",
        "\n",
        "app = Flask(__name__)\n",
        "\n",
        "# Sample data to serve through API\n",
        "books = [\n",
        "    {\n",
        "        'id': 1,\n",
        "        'title': 'The Great Gatsby',\n",
        "        'author': 'F. Scott Fitzgerald',\n",
        "        'year_published': 1925\n",
        "    },\n",
        "    {\n",
        "        'id': 2,\n",
        "        'title': 'To Kill a Mockingbird',\n",
        "        'author': 'Harper Lee',\n",
        "        'year_published': 1960\n",
        "    },\n",
        "    {\n",
        "        'id': 3,\n",
        "        'title': '1984',\n",
        "        'author': 'George Orwell',\n",
        "        'year_published': 1949\n",
        "    }\n",
        "]\n",
        "\n",
        "# GET method to retrieve all books\n",
        "@app.route('/books', methods=['GET'])\n",
        "def get_all_books():\n",
        "    return jsonify(books)\n",
        "\n",
        "# GET method to retrieve a single book by ID\n",
        "@app.route('/books/<int:id>', methods=['GET'])\n",
        "def get_book_by_id(id):\n",
        "    book = [book for book in books if book['id'] == id]\n",
        "    return jsonify(book[0])\n",
        "\n",
        "# POST method to add a new book to the database\n",
        "@app.route('/books', methods=['POST'])\n",
        "def add_new_book():\n",
        "    new_book = {\n",
        "        'id': request.json['id'],\n",
        "        'title': request.json['title'],\n",
        "        'author': request.json['author'],\n",
        "        'year_published': request.json['year_published']\n",
        "    }\n",
        "    books.append(new_book)\n",
        "    return jsonify(new_book)\n",
        "\n",
        "# PUT method to update an existing book in the database\n",
        "@app.route('/books/<int:id>', methods=['PUT'])\n",
        "def update_book(id):\n",
        "    book = [book for book in books if book['id'] == id]\n",
        "    book[0]['title'] = request.json['title']\n",
        "    book[0]['author'] = request.json['author']\n",
        "    book[0]['year_published'] = request.json['year_published']\n",
        "    return jsonify(book[0])\n",
        "\n",
        "# DELETE method to delete an existing book from the database\n",
        "@app.route('/books/<int:id>', methods=['DELETE'])\n",
        "def delete_book(id):\n",
        "    book = [book for book in books if book['id'] == id]\n",
        "    books.remove(book[0])\n",
        "    return jsonify({'result': True})\n",
        "\n",
        "if __name__ == '__main__':\n",
        "    app.run(debug=True)\n"
      ],
      "metadata": {
        "id": "c6JiDkWYPDvS"
      },
      "execution_count": null,
      "outputs": []
    }
  ]
}