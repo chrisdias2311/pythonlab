{
  "nbformat": 4,
  "nbformat_minor": 0,
  "metadata": {
    "colab": {
      "provenance": [],
      "include_colab_link": true
    },
    "kernelspec": {
      "name": "python3",
      "display_name": "Python 3"
    },
    "language_info": {
      "name": "python"
    }
  },
  "cells": [
    {
      "cell_type": "markdown",
      "metadata": {
        "id": "view-in-github",
        "colab_type": "text"
      },
      "source": [
        "<a href=\"https://colab.research.google.com/github/chrisdias2311/pythonlab/blob/main/Python_Codes.ipynb\" target=\"_parent\"><img src=\"https://colab.research.google.com/assets/colab-badge.svg\" alt=\"Open In Colab\"/></a>"
      ]
    },
    {
      "cell_type": "markdown",
      "source": [
        "## 40. Write a python program to create a dictionary of 10 items. Perform following operations on the list"
      ],
      "metadata": {
        "id": "0WAtK1f-KcES"
      }
    },
    {
      "cell_type": "code",
      "source": [
        "my_dict = {\n",
        "    \"apple\": 2,\n",
        "    \"banana\": 5,\n",
        "    \"cherry\": 10,\n",
        "    \"durian\": 3,\n",
        "    \"elderberry\": 4,\n",
        "    \"fig\": 6,\n",
        "    \"grape\": 8,\n",
        "    \"honeydew\": 1,\n",
        "    \"kiwi\": 7,\n",
        "    \"lemon\": 9\n",
        "}"
      ],
      "metadata": {
        "id": "cSU2x1QGLti4"
      },
      "execution_count": null,
      "outputs": []
    },
    {
      "cell_type": "markdown",
      "source": [
        "● Return the value of the specified key"
      ],
      "metadata": {
        "id": "zKaCW70eLuXB"
      }
    },
    {
      "cell_type": "code",
      "source": [
        "print(my_dict[\"apple\"])"
      ],
      "metadata": {
        "id": "O7gP0VUaL2FI",
        "outputId": "8ee9fa34-f430-4f59-d949-a99fee6c4d2f",
        "colab": {
          "base_uri": "https://localhost:8080/"
        }
      },
      "execution_count": null,
      "outputs": [
        {
          "output_type": "stream",
          "name": "stdout",
          "text": [
            "2\n"
          ]
        }
      ]
    },
    {
      "cell_type": "markdown",
      "source": [
        "● Remove the element with the specified key"
      ],
      "metadata": {
        "id": "1cbbtp6mOlFd"
      }
    },
    {
      "cell_type": "code",
      "source": [
        "del my_dict[\"banana\"]\n",
        "print(my_dict)"
      ],
      "metadata": {
        "id": "1iqbsuTAL7M4",
        "outputId": "339a7f42-9a7d-4451-e5f9-8000dc463391",
        "colab": {
          "base_uri": "https://localhost:8080/"
        }
      },
      "execution_count": null,
      "outputs": [
        {
          "output_type": "stream",
          "name": "stdout",
          "text": [
            "{'apple': 2, 'cherry': 10, 'durian': 3, 'elderberry': 4, 'fig': 6, 'grape': 8, 'honeydew': 1, 'kiwi': 7, 'lemon': 9}\n"
          ]
        }
      ]
    },
    {
      "cell_type": "markdown",
      "source": [
        "● Remove the last inserted key-value pair"
      ],
      "metadata": {
        "id": "vOD-AXbNOqi9"
      }
    },
    {
      "cell_type": "code",
      "source": [
        "lastKey = list(my_dict.keys())[-1]\n",
        "print(lastKey)\n",
        "del my_dict[lastKey]\n",
        "print(my_dict)"
      ],
      "metadata": {
        "id": "3pSra9bkMUB3",
        "outputId": "9339b70a-68e4-4df5-ce1c-7638003a0621",
        "colab": {
          "base_uri": "https://localhost:8080/"
        }
      },
      "execution_count": null,
      "outputs": [
        {
          "output_type": "stream",
          "name": "stdout",
          "text": [
            "lemon\n",
            "{'apple': 2, 'cherry': 10, 'durian': 3, 'elderberry': 4, 'fig': 6, 'grape': 8, 'honeydew': 1, 'kiwi': 7}\n"
          ]
        }
      ]
    },
    {
      "cell_type": "markdown",
      "source": [
        "● Update the dictionary with the specified key-value pairs"
      ],
      "metadata": {
        "id": "a7xpQFlNOuVm"
      }
    },
    {
      "cell_type": "code",
      "source": [
        "my_dict.update({\"apple\": 10,\"banana\": 5})\n",
        "print(my_dict)"
      ],
      "metadata": {
        "id": "iPxVaFDUM84A",
        "outputId": "3dcc35d8-0e7a-4498-92a5-193bcbf45e3f",
        "colab": {
          "base_uri": "https://localhost:8080/"
        }
      },
      "execution_count": null,
      "outputs": [
        {
          "output_type": "stream",
          "name": "stdout",
          "text": [
            "{'apple': 10, 'cherry': 10, 'durian': 3, 'elderberry': 4, 'fig': 6, 'grape': 8, 'honeydew': 1, 'kiwi': 7, 'banana': 5}\n"
          ]
        }
      ]
    },
    {
      "cell_type": "markdown",
      "source": [
        "● Return list of all values in the dictionary"
      ],
      "metadata": {
        "id": "OYN0iLUdOxQk"
      }
    },
    {
      "cell_type": "code",
      "source": [
        "print(list(my_dict.values()))"
      ],
      "metadata": {
        "id": "U4R5e6lGOSP3",
        "outputId": "a840ed67-00cf-4e67-a11e-28d5ec71916b",
        "colab": {
          "base_uri": "https://localhost:8080/"
        }
      },
      "execution_count": null,
      "outputs": [
        {
          "output_type": "stream",
          "name": "stdout",
          "text": [
            "[10, 10, 3, 4, 6, 8, 1, 7, 5]\n"
          ]
        }
      ]
    },
    {
      "cell_type": "markdown",
      "source": [
        "## 39. Write a python program to create a list of 10 items. Perform following operations on the list."
      ],
      "metadata": {
        "id": "ZLc0J8acPBKD"
      }
    },
    {
      "cell_type": "markdown",
      "source": [
        "● Add an element at the end of the list"
      ],
      "metadata": {
        "id": "teJqoEMaPFWH"
      }
    },
    {
      "cell_type": "code",
      "source": [
        "my_list = [1, 2, 3, 4, 5, 6]\n",
        "print(my_list)\n",
        "my_list.append(7)\n",
        "print(my_list)"
      ],
      "metadata": {
        "colab": {
          "base_uri": "https://localhost:8080/"
        },
        "id": "ntDPKX_rPKNg",
        "outputId": "72c88335-a119-4111-c1f9-ef08b98d4190"
      },
      "execution_count": null,
      "outputs": [
        {
          "output_type": "stream",
          "name": "stdout",
          "text": [
            "[1, 2, 3, 4, 5, 6]\n",
            "[1, 2, 3, 4, 5, 6, 7]\n"
          ]
        }
      ]
    },
    {
      "cell_type": "markdown",
      "source": [
        "● Add an element at the specified position"
      ],
      "metadata": {
        "id": "UV0g2tdRQBOp"
      }
    },
    {
      "cell_type": "code",
      "source": [
        "my_list.insert(4, 69)\n",
        "print(my_list)"
      ],
      "metadata": {
        "colab": {
          "base_uri": "https://localhost:8080/"
        },
        "id": "8F-VsmyPPSwX",
        "outputId": "0dfb1d01-438e-42ea-d524-8f493080d6ff"
      },
      "execution_count": null,
      "outputs": [
        {
          "output_type": "stream",
          "name": "stdout",
          "text": [
            "[1, 2, 3, 4, 69, 5, 6, 7]\n"
          ]
        }
      ]
    },
    {
      "cell_type": "markdown",
      "source": [
        "● Remove the element at the specified position"
      ],
      "metadata": {
        "id": "rddLAKj8P2xH"
      }
    },
    {
      "cell_type": "code",
      "source": [
        "del my_list[4]\n",
        "print(my_list)"
      ],
      "metadata": {
        "colab": {
          "base_uri": "https://localhost:8080/"
        },
        "id": "r8mCid6jQIpP",
        "outputId": "9a401dfd-cf0a-434a-fda0-91b8c2bdbc56"
      },
      "execution_count": null,
      "outputs": [
        {
          "output_type": "stream",
          "name": "stdout",
          "text": [
            "[1, 2, 3, 4, 5, 6, 7]\n"
          ]
        }
      ]
    },
    {
      "cell_type": "markdown",
      "source": [
        "● Revere the order of the list"
      ],
      "metadata": {
        "id": "qyGpMiQ3QMI-"
      }
    },
    {
      "cell_type": "code",
      "source": [
        "my_list.reverse()\n",
        "print(my_list)"
      ],
      "metadata": {
        "colab": {
          "base_uri": "https://localhost:8080/"
        },
        "id": "fXP24HR3QTKn",
        "outputId": "547dd647-0c17-4252-aa14-4730a3c77b54"
      },
      "execution_count": null,
      "outputs": [
        {
          "output_type": "stream",
          "name": "stdout",
          "text": [
            "[7, 6, 5, 4, 3, 2, 1]\n"
          ]
        }
      ]
    },
    {
      "cell_type": "markdown",
      "source": [
        "● Return the number of elements with the specified value"
      ],
      "metadata": {
        "id": "k_ulgICtQmrW"
      }
    },
    {
      "cell_type": "code",
      "source": [
        "print(my_list.count(2))"
      ],
      "metadata": {
        "colab": {
          "base_uri": "https://localhost:8080/"
        },
        "id": "1GlnWykBQn7O",
        "outputId": "e673f37f-9c89-46ef-9ed2-d6811e72b138"
      },
      "execution_count": null,
      "outputs": [
        {
          "output_type": "stream",
          "name": "stdout",
          "text": [
            "1\n"
          ]
        }
      ]
    },
    {
      "cell_type": "markdown",
      "source": [
        "## 38. Write a python program to implement string methods. Create a string “hello programming”. Apply string methods to get following outputs “HELLO PROGRAMMING”, “PROGRAMMING”, “Hello Programming”, “o Programming”, [“Hello”, “Programming”] , “g”\n"
      ],
      "metadata": {
        "id": "gZVreZVgQy4-"
      }
    },
    {
      "cell_type": "code",
      "source": [
        "my_str = \"hello programming\"\n",
        "\n",
        "# Convert it to Upper case\n",
        "my_str = my_str.upper()\n",
        "print(my_str)\n",
        "\n",
        "# Get the substring starting from the 7th character\n",
        "my_str = my_str[6:]\n",
        "print(my_str)\n",
        "\n",
        "# Get the substring starting from the 7th character\n",
        "my_str = \"hello programming\"\n",
        "my_str = my_str.capitalize()\n",
        "print(my_str)\n",
        "\n",
        "# Get the substring starting from 4th Character \n",
        "my_str = my_str[4:]\n",
        "print(my_str)\n",
        "\n",
        "# Split the String into a alist of words \n",
        "my_list = my_str.split()\n",
        "print(my_list)\n",
        "\n",
        "# Get the last character of the string\n",
        "char = my_str[-1]\n",
        "print(char)"
      ],
      "metadata": {
        "colab": {
          "base_uri": "https://localhost:8080/"
        },
        "id": "5F5BtfptRPS_",
        "outputId": "00abbf3b-5101-4b8a-d33f-5788a60a2f2c"
      },
      "execution_count": null,
      "outputs": [
        {
          "output_type": "stream",
          "name": "stdout",
          "text": [
            "HELLO PROGRAMMING\n",
            "PROGRAMMING\n",
            "Hello programming\n",
            "o programming\n",
            "['o', 'programming']\n",
            "g\n"
          ]
        }
      ]
    },
    {
      "cell_type": "markdown",
      "source": [
        "## 37. Write a program to check whether the input year is a leap year or not"
      ],
      "metadata": {
        "id": "qMiEAd9eWJwq"
      }
    },
    {
      "cell_type": "code",
      "source": [
        "year = int(input(\"Enter a ayear: \"))\n",
        "\n",
        "if(year % 4 == 0):\n",
        "    print(\"Leap Year\")\n",
        "else:\n",
        "  print(\"Not a leap year\")    "
      ],
      "metadata": {
        "colab": {
          "base_uri": "https://localhost:8080/"
        },
        "id": "2GOlIGqHWLbN",
        "outputId": "8e041282-dafe-47d5-b298-84d30899bc7c"
      },
      "execution_count": null,
      "outputs": [
        {
          "output_type": "stream",
          "name": "stdout",
          "text": [
            "Enter a ayear: 2004\n",
            "Leap Year\n"
          ]
        }
      ]
    },
    {
      "cell_type": "markdown",
      "source": [
        "## 36. Write a Python program to check and print if the inputted number is ‘positive’, ‘negative’ or ‘zero’"
      ],
      "metadata": {
        "id": "ggpdsJjuRfQQ"
      }
    },
    {
      "cell_type": "code",
      "source": [
        "num  = int(input(\"Enter a number\"))\n",
        "\n",
        "if(num==0):\n",
        "  print(\"Number is 0\")\n",
        "elif (num<0):\n",
        "  print(\"Number is negetive\")\n",
        "else:\n",
        "  print(\"Number is positive\")  "
      ],
      "metadata": {
        "colab": {
          "base_uri": "https://localhost:8080/"
        },
        "id": "orTZKJzbRmDX",
        "outputId": "864c0020-96f2-474a-f7ac-969e69c039a0"
      },
      "execution_count": null,
      "outputs": [
        {
          "output_type": "stream",
          "name": "stdout",
          "text": [
            "Enter a number10\n",
            "Number is positive\n"
          ]
        }
      ]
    },
    {
      "cell_type": "markdown",
      "source": [
        "## 35. Print the multiplication tables of all the number between 1 to n##"
      ],
      "metadata": {
        "id": "NXaYalTiSFpd"
      }
    },
    {
      "cell_type": "code",
      "source": [
        "n = int(input(\"Enter a number\"))\n",
        "\n",
        "for i in range(1, n+1):\n",
        "  len = 10\n",
        "  for j in range(1, len+1):\n",
        "    print(i, \" x \", j, \" = \", j*i)"
      ],
      "metadata": {
        "id": "Mn4HaQSQSUQN",
        "colab": {
          "base_uri": "https://localhost:8080/"
        },
        "outputId": "c8734986-c51d-487b-f05e-7b4c06f1cde8"
      },
      "execution_count": null,
      "outputs": [
        {
          "output_type": "stream",
          "name": "stdout",
          "text": [
            "Enter a number12\n",
            "1  x  1  =  1\n",
            "1  x  2  =  2\n",
            "1  x  3  =  3\n",
            "1  x  4  =  4\n",
            "1  x  5  =  5\n",
            "1  x  6  =  6\n",
            "1  x  7  =  7\n",
            "1  x  8  =  8\n",
            "1  x  9  =  9\n",
            "1  x  10  =  10\n",
            "2  x  1  =  2\n",
            "2  x  2  =  4\n",
            "2  x  3  =  6\n",
            "2  x  4  =  8\n",
            "2  x  5  =  10\n",
            "2  x  6  =  12\n",
            "2  x  7  =  14\n",
            "2  x  8  =  16\n",
            "2  x  9  =  18\n",
            "2  x  10  =  20\n",
            "3  x  1  =  3\n",
            "3  x  2  =  6\n",
            "3  x  3  =  9\n",
            "3  x  4  =  12\n",
            "3  x  5  =  15\n",
            "3  x  6  =  18\n",
            "3  x  7  =  21\n",
            "3  x  8  =  24\n",
            "3  x  9  =  27\n",
            "3  x  10  =  30\n",
            "4  x  1  =  4\n",
            "4  x  2  =  8\n",
            "4  x  3  =  12\n",
            "4  x  4  =  16\n",
            "4  x  5  =  20\n",
            "4  x  6  =  24\n",
            "4  x  7  =  28\n",
            "4  x  8  =  32\n",
            "4  x  9  =  36\n",
            "4  x  10  =  40\n",
            "5  x  1  =  5\n",
            "5  x  2  =  10\n",
            "5  x  3  =  15\n",
            "5  x  4  =  20\n",
            "5  x  5  =  25\n",
            "5  x  6  =  30\n",
            "5  x  7  =  35\n",
            "5  x  8  =  40\n",
            "5  x  9  =  45\n",
            "5  x  10  =  50\n",
            "6  x  1  =  6\n",
            "6  x  2  =  12\n",
            "6  x  3  =  18\n",
            "6  x  4  =  24\n",
            "6  x  5  =  30\n",
            "6  x  6  =  36\n",
            "6  x  7  =  42\n",
            "6  x  8  =  48\n",
            "6  x  9  =  54\n",
            "6  x  10  =  60\n",
            "7  x  1  =  7\n",
            "7  x  2  =  14\n",
            "7  x  3  =  21\n",
            "7  x  4  =  28\n",
            "7  x  5  =  35\n",
            "7  x  6  =  42\n",
            "7  x  7  =  49\n",
            "7  x  8  =  56\n",
            "7  x  9  =  63\n",
            "7  x  10  =  70\n",
            "8  x  1  =  8\n",
            "8  x  2  =  16\n",
            "8  x  3  =  24\n",
            "8  x  4  =  32\n",
            "8  x  5  =  40\n",
            "8  x  6  =  48\n",
            "8  x  7  =  56\n",
            "8  x  8  =  64\n",
            "8  x  9  =  72\n",
            "8  x  10  =  80\n",
            "9  x  1  =  9\n",
            "9  x  2  =  18\n",
            "9  x  3  =  27\n",
            "9  x  4  =  36\n",
            "9  x  5  =  45\n",
            "9  x  6  =  54\n",
            "9  x  7  =  63\n",
            "9  x  8  =  72\n",
            "9  x  9  =  81\n",
            "9  x  10  =  90\n",
            "10  x  1  =  10\n",
            "10  x  2  =  20\n",
            "10  x  3  =  30\n",
            "10  x  4  =  40\n",
            "10  x  5  =  50\n",
            "10  x  6  =  60\n",
            "10  x  7  =  70\n",
            "10  x  8  =  80\n",
            "10  x  9  =  90\n",
            "10  x  10  =  100\n",
            "11  x  1  =  11\n",
            "11  x  2  =  22\n",
            "11  x  3  =  33\n",
            "11  x  4  =  44\n",
            "11  x  5  =  55\n",
            "11  x  6  =  66\n",
            "11  x  7  =  77\n",
            "11  x  8  =  88\n",
            "11  x  9  =  99\n",
            "11  x  10  =  110\n",
            "12  x  1  =  12\n",
            "12  x  2  =  24\n",
            "12  x  3  =  36\n",
            "12  x  4  =  48\n",
            "12  x  5  =  60\n",
            "12  x  6  =  72\n",
            "12  x  7  =  84\n",
            "12  x  8  =  96\n",
            "12  x  9  =  108\n",
            "12  x  10  =  120\n"
          ]
        }
      ]
    },
    {
      "cell_type": "markdown",
      "source": [
        "## 34. Write a python program to calculate factorials of all the even numbers between 10 to 50"
      ],
      "metadata": {
        "id": "YP8ZX_MTS_R_"
      }
    },
    {
      "cell_type": "code",
      "source": [
        "def factorial(n):\n",
        "  if n==0:\n",
        "    return 1;\n",
        "  else:\n",
        "    return n * factorial(n-1)\n",
        "\n",
        "\n",
        "for i in range(10, 51):\n",
        "  print(\"Factorial of \",i , \" is \", factorial(i))\n"
      ],
      "metadata": {
        "id": "wQhBSRAyTxv_",
        "colab": {
          "base_uri": "https://localhost:8080/"
        },
        "outputId": "5ba74830-a8ad-4736-9899-6a1056852492"
      },
      "execution_count": null,
      "outputs": [
        {
          "output_type": "stream",
          "name": "stdout",
          "text": [
            "Factorial of  10  is  3628800\n",
            "Factorial of  11  is  39916800\n",
            "Factorial of  12  is  479001600\n",
            "Factorial of  13  is  6227020800\n",
            "Factorial of  14  is  87178291200\n",
            "Factorial of  15  is  1307674368000\n",
            "Factorial of  16  is  20922789888000\n",
            "Factorial of  17  is  355687428096000\n",
            "Factorial of  18  is  6402373705728000\n",
            "Factorial of  19  is  121645100408832000\n",
            "Factorial of  20  is  2432902008176640000\n",
            "Factorial of  21  is  51090942171709440000\n",
            "Factorial of  22  is  1124000727777607680000\n",
            "Factorial of  23  is  25852016738884976640000\n",
            "Factorial of  24  is  620448401733239439360000\n",
            "Factorial of  25  is  15511210043330985984000000\n",
            "Factorial of  26  is  403291461126605635584000000\n",
            "Factorial of  27  is  10888869450418352160768000000\n",
            "Factorial of  28  is  304888344611713860501504000000\n",
            "Factorial of  29  is  8841761993739701954543616000000\n",
            "Factorial of  30  is  265252859812191058636308480000000\n",
            "Factorial of  31  is  8222838654177922817725562880000000\n",
            "Factorial of  32  is  263130836933693530167218012160000000\n",
            "Factorial of  33  is  8683317618811886495518194401280000000\n",
            "Factorial of  34  is  295232799039604140847618609643520000000\n",
            "Factorial of  35  is  10333147966386144929666651337523200000000\n",
            "Factorial of  36  is  371993326789901217467999448150835200000000\n",
            "Factorial of  37  is  13763753091226345046315979581580902400000000\n",
            "Factorial of  38  is  523022617466601111760007224100074291200000000\n",
            "Factorial of  39  is  20397882081197443358640281739902897356800000000\n",
            "Factorial of  40  is  815915283247897734345611269596115894272000000000\n",
            "Factorial of  41  is  33452526613163807108170062053440751665152000000000\n",
            "Factorial of  42  is  1405006117752879898543142606244511569936384000000000\n",
            "Factorial of  43  is  60415263063373835637355132068513997507264512000000000\n",
            "Factorial of  44  is  2658271574788448768043625811014615890319638528000000000\n",
            "Factorial of  45  is  119622220865480194561963161495657715064383733760000000000\n",
            "Factorial of  46  is  5502622159812088949850305428800254892961651752960000000000\n",
            "Factorial of  47  is  258623241511168180642964355153611979969197632389120000000000\n",
            "Factorial of  48  is  12413915592536072670862289047373375038521486354677760000000000\n",
            "Factorial of  49  is  608281864034267560872252163321295376887552831379210240000000000\n",
            "Factorial of  50  is  30414093201713378043612608166064768844377641568960512000000000000\n"
          ]
        }
      ]
    },
    {
      "cell_type": "markdown",
      "source": [
        "## 33. Write a python program to print all the fibonacci numbers between 1 to 50."
      ],
      "metadata": {
        "id": "Y8NOuS3SVJXP"
      }
    },
    {
      "cell_type": "code",
      "source": [
        "# Function using iteraton\n",
        "def fib(n):\n",
        "  a, b = 0, 1\n",
        "\n",
        "  for i in range(n):\n",
        "    print(b)\n",
        "    temp=a\n",
        "    a=b\n",
        "    b=temp+b\n",
        "\n",
        "\n",
        "# Function usign recursion\n",
        "def fibo(n, a, b, c, a_list):\n",
        "  if(c==n):\n",
        "    return\n",
        "\n",
        "  # print(b)  \n",
        "  a_list.append(b)\n",
        "  fibo(n, b, a+b, c+1, a_list)  \n",
        "\n",
        "\n",
        "\n",
        "# fib(10) \n",
        "# fibo(10, 0, 1, 0) \n",
        "n=10\n",
        "for i in range(n+1):\n",
        "  my_list=[]\n",
        "  fibo(i, 0, 1, 0, my_list)\n",
        "  print(my_list)\n",
        "\n",
        "  "
      ],
      "metadata": {
        "id": "sc8HgX5sVa1f"
      },
      "execution_count": null,
      "outputs": []
    },
    {
      "cell_type": "markdown",
      "source": [
        "##32. Write a python program to range function to add all the odd numbers between 1 to n and display the clasresult\n"
      ],
      "metadata": {
        "id": "_DRM8Cq0WhVQ"
      }
    },
    {
      "cell_type": "code",
      "source": [
        "def add_n(n):\n",
        "  sum=0;\n",
        "  for i in range(1, n):\n",
        "    if(i%2==1):\n",
        "      sum+=i\n",
        "  return sum\n",
        "\n",
        "num = int(input(\"Enter a number\"))\n",
        "add_n(num)"
      ],
      "metadata": {
        "id": "ac_fayHrB0Za"
      },
      "execution_count": null,
      "outputs": []
    },
    {
      "cell_type": "markdown",
      "source": [
        "## 31. Write a python program to print a pyramid pattern on the screen"
      ],
      "metadata": {
        "id": "6RY1sOl4B3SA"
      }
    },
    {
      "cell_type": "code",
      "source": [
        "n = int(input(\"Enter height of pyramid: \"))\n",
        "\n",
        "for i in range(1, n+1):\n",
        "  print(\" \"*(n-i), end=\"\")\n",
        "  print(\"*\"*(2*i-1))"
      ],
      "metadata": {
        "id": "ngeEbeO6DVHO"
      },
      "execution_count": null,
      "outputs": []
    },
    {
      "cell_type": "markdown",
      "source": [
        "## 30. Write a python program implements stack using array"
      ],
      "metadata": {
        "id": "YlIuqmhcFIbF"
      }
    },
    {
      "cell_type": "code",
      "source": [
        "class Stack:\n",
        "    def __init__(self):\n",
        "      self.items=[]\n",
        "\n",
        "    def is_empty(self):\n",
        "      return len(self.items)==0;\n",
        "\n",
        "\n",
        "    def push(self, num):\n",
        "      self.items.append(num)\n",
        "\n",
        "\n",
        "    def pop(self):\n",
        "      if self.is_empty():\n",
        "        return None\n",
        "      else:\n",
        "        return self.items.pop()\n",
        "\n",
        "\n",
        "    def peek(self):\n",
        "      if self.is_empty():\n",
        "        return None\n",
        "      else:\n",
        "        return self.items[-1]\n",
        "\n",
        "    def size(self):\n",
        "      return len(self.items)\n",
        "\n",
        "\n",
        "\n",
        "s = Stack()\n",
        "s.push(1)\n",
        "s.push(2)\n",
        "s.push(3)\n",
        "print(s.peek())    # Output: 3\n",
        "s.pop()\n",
        "print(s.peek())    # Output: 2\n",
        "print(s.size())    # Output: 2\n"
      ],
      "metadata": {
        "id": "UOrw4m3yHVN0"
      },
      "execution_count": null,
      "outputs": []
    },
    {
      "cell_type": "markdown",
      "source": [
        "## 29. Write a program to create an array a of size 10 of type integer. Create another array b which has four times the elements of array a"
      ],
      "metadata": {
        "id": "El9J2AWMHmUj"
      }
    },
    {
      "cell_type": "code",
      "source": [
        "# Extract elements from 4 to 8 from an array and store in another array.\n",
        "a = [i for i in range(10)]\n",
        "print(a)\n",
        "\n",
        "# create array b with four times the elements of array a\n",
        "b = a*4\n",
        "print(b)\n",
        "\n",
        "# extract elements from 4 to 8 from an array and store in another array\n",
        "c = a[4:8]\n",
        "print(c)\n",
        "\n",
        "# Print the array in the reverse order \n",
        "print(\"Array in reverse order is: \", a[::-1])\n",
        "\n",
        "# pop elements from the array from first location, from middle and from last\n",
        "a.pop(0)\n",
        "a.pop(len(a)//2)\n",
        "a.pop()\n",
        "print(\"After poppng elements from the array from first location, from middle and from last\", a)\n",
        "\n",
        "# append three more elements to the array\n",
        "a.append(10)\n",
        "a.append(12)\n",
        "a.append(13)\n",
        "print(a)\n",
        "\n",
        "# delete the third elements of an array\n",
        "del a[2]\n",
        "print(\"After deleting the thirs element: \", a)\n",
        "\n",
        "# search an element from an array\n",
        "element = 7 \n",
        "if element in a:\n",
        "  print(\"Element found\")\n",
        "else:\n",
        "  print(\"Element not found\")  \n",
        "\n",
        "\n",
        "# insert an element in the middle\n",
        "a.insert(len(a)//2, 100)\n",
        "print(\"Array after inserting the element in the middle\", a)"
      ],
      "metadata": {
        "id": "ll23elLXJC3B"
      },
      "execution_count": null,
      "outputs": []
    },
    {
      "cell_type": "markdown",
      "source": [
        "## 28. Write a program to compute sum of all the list elements and implement the same using reduce function"
      ],
      "metadata": {
        "id": "QzBN3n0GtXA0"
      }
    },
    {
      "cell_type": "code",
      "source": [
        "import functools as ft \n",
        "numbers = [1, 2, 3, 4, 5]\n",
        "\n",
        "sum_of_nums = 0\n",
        "\n",
        "# compute sum of list elements using a for loop\n",
        "for i in range(len(numbers)):\n",
        "  sum_of_nums += numbers[i]\n",
        "\n",
        "# compute sum of list elements using reduce function\n",
        "sum_reduce_func = ft.reduce(lambda x, y: x+y, numbers)\n",
        "\n",
        "print(\"sum of numbers = \", sum_of_nums)  \n",
        "print(\"sum of numbers = \", sum_reduce_func)  "
      ],
      "metadata": {
        "id": "sPkRN6tvtsds"
      },
      "execution_count": null,
      "outputs": []
    },
    {
      "cell_type": "markdown",
      "source": [
        "## 27. Write a program to function that filters vowels from given list of characters and implement the same using filter function  (Revision must)"
      ],
      "metadata": {
        "id": "nzKNgHv1vTUr"
      }
    },
    {
      "cell_type": "code",
      "source": [
        "def filter_vowels(chars):\n",
        "  vowels = ['a', 'e', 'i', 'o', 'u']\n",
        "  filtered_chars = []\n",
        "\n",
        "  for char in chars:\n",
        "    if char.lower() in vowels:\n",
        "      filtered_chars.append(char)\n",
        "\n",
        "  return filtered_chars \n",
        "\n",
        "chars = ['a', 'b', 'c', 'd', 'e', 'f', 'g', 'h', 'i', 'j']\n",
        "\n",
        "filtered_chars_func = filter_vowels(chars)\n",
        "\n",
        "# filter vowels using the filter function and the filter_vowels function\n",
        "filtered_chars = list(filter(lambda x: x.lower() in ['a', 'e', 'i', 'o', 'u'], chars))\n",
        "\n",
        "\n",
        "# print the filtered characters\n",
        "print(\"Filtered characters using filter function:\", filtered_chars)\n",
        "print(\"Filtered characters using filter_vowels function:\", filtered_chars_func)"
      ],
      "metadata": {
        "id": "upUINp-OvalM"
      },
      "execution_count": null,
      "outputs": []
    },
    {
      "cell_type": "markdown",
      "source": [
        "## 26. Write a program to double all the numbers of the list using normal function and Implement the same using map function\n"
      ],
      "metadata": {
        "id": "IKfpSnz5vqLT"
      }
    },
    {
      "cell_type": "code",
      "source": [
        "def double_numbers(numbers):\n",
        "  doubled_numbers = []\n",
        "\n",
        "  for num in numbers:\n",
        "    doubled_numbers.append(num*2)\n",
        "\n",
        "  return doubled_numbers\n",
        "\n",
        "numbers = [1, 2, 3, 4, 5]\n",
        "\n",
        "doubled_numbers = list(map(lambda x:x*2, numbers))\n",
        "doubled_numbers_func =  double_numbers(numbers)\n",
        "\n",
        "print(\"Doubled numbers using map function:\", doubled_numbers)\n",
        "print(\"Doubled numbers using double_numbers function:\", doubled_numbers_func)\n"
      ],
      "metadata": {
        "id": "k49qJ4MCynV8"
      },
      "execution_count": null,
      "outputs": []
    },
    {
      "cell_type": "markdown",
      "source": [
        "## 25. Write a function to calculate cube of a number and implement the same using anonymous function called lambda\n"
      ],
      "metadata": {
        "id": "D1hZYlSnzt8z"
      }
    },
    {
      "cell_type": "code",
      "source": [
        "def cube(x):\n",
        "    return x**3\n",
        "\n",
        "\n",
        "result = cube(5)\n",
        "print(\"Cube of 5 using normal function:\", result)\n",
        "\n",
        "# use an anonymous lambda function to calculate the cube of 5\n",
        "cube_lambda = lambda x:x**3\n",
        "result_lambda = cube_lambda(5)\n",
        "print(\"Cube of 5 using lambda function:\", result_lambda)"
      ],
      "metadata": {
        "id": "B4DyZ2hgz4ND"
      },
      "execution_count": null,
      "outputs": []
    },
    {
      "cell_type": "markdown",
      "source": [
        "## 24. To implement a python program to handle multiple exceptions (min 5 exceptions) implement all the types of errors that can be handled in try-except block."
      ],
      "metadata": {
        "id": "hehLykN41rCY"
      }
    },
    {
      "cell_type": "code",
      "source": [
        "# define a function to handle exceptions\n",
        "def handle_exceptions():\n",
        "    try:\n",
        "        # division by zero\n",
        "        num = 1 / 0\n",
        "    except ZeroDivisionError:\n",
        "        print(\"Error: division by zero\")\n",
        "\n",
        "    try:\n",
        "        # accessing a non-existent index of a list\n",
        "        my_list = [1, 2, 3]\n",
        "        item = my_list[3]\n",
        "    except IndexError:\n",
        "        print(\"Error: index out of range\")\n",
        "\n",
        "    try:\n",
        "        # converting a string to an integer\n",
        "        my_string = \"hello\"\n",
        "        my_num = int(my_string)\n",
        "    except ValueError:\n",
        "        print(\"Error: invalid conversion to integer\")\n",
        "\n",
        "    try:\n",
        "        # accessing a non-existent attribute of an object\n",
        "        my_dict = {\"key\": \"value\"}\n",
        "        my_val = my_dict[\"nonexistent_key\"]\n",
        "    except KeyError:\n",
        "        print(\"Error: key does not exist\")\n",
        "\n",
        "    try:\n",
        "        # attempting to call a non-callable object\n",
        "        my_num = 1234\n",
        "        my_num()\n",
        "    except TypeError:\n",
        "        print(\"Error: object is not callable\")\n",
        "\n",
        "# call the handle_exceptions function\n",
        "handle_exceptions()"
      ],
      "metadata": {
        "id": "VbeQ07Fg7dLB"
      },
      "execution_count": null,
      "outputs": []
    },
    {
      "cell_type": "markdown",
      "source": [
        "## 23. Write a Python program to calculate the sum of first 5 natural numbers using recursion."
      ],
      "metadata": {
        "id": "lx6Qt7E674CB"
      }
    },
    {
      "cell_type": "code",
      "source": [
        "def sum_natural_numbers(n):\n",
        "    if n == 1:\n",
        "        return 1\n",
        "    else:\n",
        "        return n + sum_natural_numbers(n - 1)\n",
        "\n",
        "# calculate the sum of the first 5 natural numbers using the sum_natural_numbers function\n",
        "result = sum_natural_numbers(5)\n",
        "\n",
        "# print the result\n",
        "print(\"The sum of the first 5 natural numbers is:\", result)"
      ],
      "metadata": {
        "id": "zVCQwTmR95T_"
      },
      "execution_count": null,
      "outputs": []
    },
    {
      "cell_type": "markdown",
      "source": [
        "## 22. To implement a python program to define user defined functions to handle multiple exceptions (min 5 exceptions)  (Revision Must)"
      ],
      "metadata": {
        "id": "MWRmq3Di-MLY"
      }
    },
    {
      "cell_type": "code",
      "source": [
        "# define a function to handle a ZeroDivisionError\n",
        "def handle_zero_division_error():\n",
        "    try:\n",
        "        num = 1 / 0\n",
        "    except ZeroDivisionError:\n",
        "        print(\"Error: division by zero\")\n",
        "\n",
        "# define a function to handle an IndexError\n",
        "def handle_index_error():\n",
        "    try:\n",
        "        my_list = [1, 2, 3]\n",
        "        item = my_list[3]\n",
        "    except IndexError:\n",
        "        print(\"Error: index out of range\")\n",
        "\n",
        "# define a function to handle a ValueError\n",
        "def handle_value_error():\n",
        "    try:\n",
        "        my_string = \"hello\"\n",
        "        my_num = int(my_string)\n",
        "    except ValueError:\n",
        "        print(\"Error: invalid conversion to integer\")\n",
        "\n",
        "# define a function to handle a KeyError\n",
        "def handle_key_error():\n",
        "    try:\n",
        "        my_dict = {\"key\": \"value\"}\n",
        "        my_val = my_dict[\"nonexistent_key\"]\n",
        "    except KeyError:\n",
        "        print(\"Error: key does not exist\")\n",
        "\n",
        "# define a function to handle a TypeError\n",
        "def handle_type_error():\n",
        "    try:\n",
        "        my_num = 1234\n",
        "        my_num()\n",
        "    except TypeError:\n",
        "        print(\"Error: object is not callable\")\n",
        "\n",
        "# call the exception handling functions\n",
        "handle_zero_division_error()\n",
        "handle_index_error()\n",
        "handle_value_error()\n",
        "handle_key_error()\n",
        "handle_type_error()\n"
      ],
      "metadata": {
        "id": "EcQUZJ44_fZw"
      },
      "execution_count": null,
      "outputs": []
    },
    {
      "cell_type": "markdown",
      "source": [
        "## 21. Write a python program to implement a python program to implement Linear Search Algorithm using function"
      ],
      "metadata": {
        "id": "JFL_EJC2IF-O"
      }
    },
    {
      "cell_type": "code",
      "source": [
        "arr = [i for i in range(10)]\n",
        "flag = False\n",
        "toFind = 5\n",
        "\n",
        "for i in range(len(arr)):\n",
        "  if(arr[i]==toFind):\n",
        "    flag=True\n",
        "\n",
        "if(flag):\n",
        "  print(\"Found\")\n",
        "else: \n",
        "  print(\"Not found\")  "
      ],
      "metadata": {
        "id": "-ceoNdJlILXd"
      },
      "execution_count": null,
      "outputs": []
    },
    {
      "cell_type": "markdown",
      "source": [
        "## 20. Write a python program to create a Bank class where deposits and withdrawals can be handled by using instance methods."
      ],
      "metadata": {
        "id": "nFB8w9ezs5uE"
      }
    },
    {
      "cell_type": "code",
      "source": [
        "class Bank:\n",
        "  def __init__(self, balance=0):\n",
        "    self.balance = balance\n",
        "  \n",
        "  def deposit(self, amt):\n",
        "    self.balance += amt\n",
        "    print(f\"Deposited {amt}. New balance is {self.balance}\")\n",
        "\n",
        "  def withdraw(self, amt):\n",
        "    if(amt>self.balance):\n",
        "       print(\"Insufficient balance\")\n",
        "    else:\n",
        "       self.balance -= amt\n",
        "       print(f\"Withdrawn {amt}. New balance is {self.balance}\")\n",
        "\n",
        "\n",
        "bank_acc = Bank(1000)\n",
        "\n",
        "bank_acc.deposit(500)\n",
        "\n",
        "bank_acc.withdraw(200)\n",
        "\n",
        "bank_acc.withdraw(1500)"
      ],
      "metadata": {
        "id": "VbbyFZ5utQF5"
      },
      "execution_count": null,
      "outputs": []
    },
    {
      "cell_type": "markdown",
      "source": [
        "## 19. Write a Python class named Circle constructed by a radius and two methods which will compute the area and the perimeter of a circle"
      ],
      "metadata": {
        "id": "uCIG2dxmuMpE"
      }
    },
    {
      "cell_type": "code",
      "source": [
        "class Circle:\n",
        "  def __init__(self, radius):\n",
        "    self.radius = radius\n",
        "    print(f\"Circle with radius {radius} created\")\n",
        "  \n",
        "  def area(self):\n",
        "    return 3.14 * (self.radius ** 2)\n",
        "\n",
        "  def perimeter(self):\n",
        "    return 2*3.14*self.radius\n",
        "\n",
        "\n",
        "c = Circle(5);\n",
        "print(f\"Area: {c.area()}\")\n",
        "print(f\"Perimeter: {c.perimeter()}\")\n"
      ],
      "metadata": {
        "id": "05loEAiHuzv5"
      },
      "execution_count": null,
      "outputs": []
    },
    {
      "cell_type": "markdown",
      "source": [
        "## 18. Declare a Class with class-name Student which accepts the Student details, creates an inner class of Student Marks with a constructor that takes marks as arguments and returns the total and percentage of marks along with the student details\n"
      ],
      "metadata": {
        "id": "-UIFYKG4vtRZ"
      }
    },
    {
      "cell_type": "code",
      "source": [
        "class Student:\n",
        "    def __init__(self, name, roll_no, age):\n",
        "        self.name = name\n",
        "        self.roll_no = roll_no\n",
        "        self.age = age\n",
        "\n",
        "    class StudentMarks:\n",
        "        def __init__(self, student, marks):\n",
        "            self.student = student\n",
        "            self.marks = marks\n",
        "\n",
        "        def calculate_total_marks(self):\n",
        "            return sum(self.marks)\n",
        "\n",
        "        def calculate_percentage(self):\n",
        "            total_marks = self.calculate_total_marks()\n",
        "            return (total_marks / (len(self.marks) * 100)) * 100\n",
        "\n",
        "        def get_student_details(self):\n",
        "            total_marks = self.calculate_total_marks()\n",
        "            percentage = self.calculate_percentage()\n",
        "            return f\"Name: {self.student.name}\\nRoll No: {self.student.roll_no}\\nAge: {self.student.age}\\nTotal Marks: {total_marks}\\nPercentage: {percentage}%\"\n",
        "\n",
        "\n",
        "# Create a Student object with the student details\n",
        "student = Student(\"John Doe\", \"1234\", 20)\n",
        "\n",
        "# Create a StudentMarks object with the marks and the student object\n",
        "marks = [80, 85, 90, 95]\n",
        "student_marks = student.StudentMarks(student, marks)\n",
        "\n",
        "# Get the student details and marks\n",
        "print(student_marks.get_student_details())\n",
        "\n"
      ],
      "metadata": {
        "id": "x6yhAxVuyd2Q"
      },
      "execution_count": null,
      "outputs": []
    },
    {
      "cell_type": "markdown",
      "source": [
        "## 17. Write a menu driven program to demonstrate OOP in python"
      ],
      "metadata": {
        "id": "rfepFw0R0PoB"
      }
    },
    {
      "cell_type": "code",
      "source": [
        "class Employee:\n",
        "  total_employees = 0;\n",
        "\n",
        "  def __init__(self, emp_id, name, dept, salary):\n",
        "    self.emp_id = emp_id\n",
        "    self.name = name\n",
        "    self.dept = dept \n",
        "    self.salary = salary \n",
        "    Employee.total_employees += 1\n",
        "\n",
        "  def __str__(self):\n",
        "    return f\"name: {self.name} salary: {self.salary:.2f}\" \n",
        "\n",
        "  def update_salary(self, new_salary):\n",
        "    self.salary = new_salary\n",
        "\n",
        "\n",
        "class Manager(Employee):\n",
        "  def __init__(self, emp_id, name, dept, salary, team_size):\n",
        "    super().__init__(emp_id, name, dept, salary)\n",
        "    self.team_size = team_size\n",
        "\n",
        "  def __str__(self):\n",
        "    return f\"Manager {super().__str__()} team size: {self.team_size}\"\n",
        "\n",
        "\n",
        "class Staff(Employee):\n",
        "  def __init__(self, emp_id, name, dept, salary, job_role):\n",
        "    super().__init__(emp_id, name, dept, salary)\n",
        "    self.job_role = job_role\n",
        "\n",
        "  def __str__(self):\n",
        "    return f\"Staff: {super().__str__()} Job Role: {self.job_role}\" \n",
        "\n",
        "\n",
        "\n",
        "\n",
        "def main():\n",
        "    employees = []\n",
        "    while True:\n",
        "        print(\"Please select an operation:\")\n",
        "        print(\"1. Add Employee\")\n",
        "        print(\"2. Update Employee Salary\")\n",
        "        print(\"3. Print Total Number of Employees\")\n",
        "        print(\"4. Display Manager Details\")\n",
        "        print(\"5. Display Staff Details\")\n",
        "        print(\"0. Exit\")\n",
        "\n",
        "        choice = int(input(\"Enter your choice: \"))\n",
        "        if choice == 0:\n",
        "            print(\"Exiting program...\")\n",
        "            break\n",
        "\n",
        "        if choice == 1:\n",
        "            emp_id = int(input(\"Enter Employee ID: \"))\n",
        "            name = input(\"Enter Employee Name: \")\n",
        "            dept = input(\"Enter Employee Department: \")\n",
        "            salary = float(input(\"Enter Employee Salary: \"))\n",
        "            employee = Employee(emp_id, name, dept, salary)\n",
        "            employees.append(employee)\n",
        "\n",
        "        elif choice == 2:\n",
        "            emp_id = int(input(\"Enter Employee ID: \"))\n",
        "            for employee in employees:\n",
        "              if(emp_id == employee.emp_id):\n",
        "                new_salary = float(input(\"Enter new salary: \"))\n",
        "                employee.update_salary(new_salary)\n",
        "                print(\"Salary updated successfully!\")\n",
        "                break\n",
        "            else:\n",
        "                print(\"Employee not found.\")\n",
        "\n",
        "        elif choice == 3:\n",
        "            print(f\"Total Number of Employees: {Employee.total_employees}\")\n",
        "\n",
        "        elif choice == 4:\n",
        "            emp_id = int(input(\"Enter Manager ID: \"))\n",
        "            for employee in employees:\n",
        "                if isinstance(employee, Manager) and employee.emp_id == emp_id:\n",
        "                    print(employee)\n",
        "                    break\n",
        "            else:\n",
        "                print(\"Manager not found.\")\n",
        "\n",
        "        elif choice == 5:\n",
        "            emp_id = int(input(\"Enter Staff ID: \"))\n",
        "            for employee in employees:\n",
        "                if isinstance(employee, Staff) and employee.emp_id == emp_id:\n",
        "                    print(employee)\n",
        "                    break\n",
        "            else:\n",
        "                print(\"Staff not found.\")\n",
        "\n",
        "        else:\n",
        "            print(\"Invalid choice. Please try again.\")\n",
        "\n",
        "# Call the main function\n",
        "main()"
      ],
      "metadata": {
        "id": "D8RfZHYr6HYb"
      },
      "execution_count": null,
      "outputs": []
    },
    {
      "cell_type": "code",
      "source": [],
      "metadata": {
        "id": "vlIyH8SkI7J-"
      },
      "execution_count": null,
      "outputs": []
    }
  ]
}