{
  "nbformat": 4,
  "nbformat_minor": 0,
  "metadata": {
    "colab": {
      "provenance": [],
      "include_colab_link": true
    },
    "kernelspec": {
      "name": "python3",
      "display_name": "Python 3"
    },
    "language_info": {
      "name": "python"
    }
  },
  "cells": [
    {
      "cell_type": "markdown",
      "metadata": {
        "id": "view-in-github",
        "colab_type": "text"
      },
      "source": [
        "<a href=\"https://colab.research.google.com/github/chrisdias2311/pythonlab/blob/main/Python_Codes.ipynb\" target=\"_parent\"><img src=\"https://colab.research.google.com/assets/colab-badge.svg\" alt=\"Open In Colab\"/></a>"
      ]
    },
    {
      "cell_type": "markdown",
      "source": [
        "## 40. Write a python program to create a dictionary of 10 items. Perform following operations on the list"
      ],
      "metadata": {
        "id": "0WAtK1f-KcES"
      }
    },
    {
      "cell_type": "code",
      "source": [
        "my_dict = {\n",
        "    \"apple\": 2,\n",
        "    \"banana\": 5,\n",
        "    \"cherry\": 10,\n",
        "    \"durian\": 3,\n",
        "    \"elderberry\": 4,\n",
        "    \"fig\": 6,\n",
        "    \"grape\": 8,\n",
        "    \"honeydew\": 1,\n",
        "    \"kiwi\": 7,\n",
        "    \"lemon\": 9\n",
        "}"
      ],
      "metadata": {
        "id": "cSU2x1QGLti4"
      },
      "execution_count": null,
      "outputs": []
    },
    {
      "cell_type": "markdown",
      "source": [
        "● Return the value of the specified key"
      ],
      "metadata": {
        "id": "zKaCW70eLuXB"
      }
    },
    {
      "cell_type": "code",
      "source": [
        "print(my_dict[\"apple\"])"
      ],
      "metadata": {
        "id": "O7gP0VUaL2FI"
      },
      "execution_count": null,
      "outputs": []
    },
    {
      "cell_type": "markdown",
      "source": [
        "● Remove the element with the specified key"
      ],
      "metadata": {
        "id": "1cbbtp6mOlFd"
      }
    },
    {
      "cell_type": "code",
      "source": [
        "del my_dict[\"banana\"]\n",
        "print(my_dict)"
      ],
      "metadata": {
        "id": "1iqbsuTAL7M4"
      },
      "execution_count": null,
      "outputs": []
    },
    {
      "cell_type": "markdown",
      "source": [
        "● Remove the last inserted key-value pair"
      ],
      "metadata": {
        "id": "vOD-AXbNOqi9"
      }
    },
    {
      "cell_type": "code",
      "source": [
        "lastKey = list(my_dict.keys())[-1]\n",
        "print(lastKey)\n",
        "del my_dict[lastKey]\n",
        "print(my_dict)"
      ],
      "metadata": {
        "id": "3pSra9bkMUB3"
      },
      "execution_count": null,
      "outputs": []
    },
    {
      "cell_type": "markdown",
      "source": [
        "● Update the dictionary with the specified key-value pairs"
      ],
      "metadata": {
        "id": "a7xpQFlNOuVm"
      }
    },
    {
      "cell_type": "code",
      "source": [
        "my_dict.update({\"apple\": 10,\"banana\": 5})\n",
        "print(my_dict)"
      ],
      "metadata": {
        "id": "iPxVaFDUM84A"
      },
      "execution_count": null,
      "outputs": []
    },
    {
      "cell_type": "markdown",
      "source": [
        "● Return list of all values in the dictionary"
      ],
      "metadata": {
        "id": "OYN0iLUdOxQk"
      }
    },
    {
      "cell_type": "code",
      "source": [
        "print(list(my_dict.values()))"
      ],
      "metadata": {
        "id": "U4R5e6lGOSP3"
      },
      "execution_count": null,
      "outputs": []
    },
    {
      "cell_type": "markdown",
      "source": [
        "## 39. Write a python program to create a list of 10 items. Perform following operations on the list."
      ],
      "metadata": {
        "id": "ZLc0J8acPBKD"
      }
    },
    {
      "cell_type": "markdown",
      "source": [
        "● Add an element at the end of the list"
      ],
      "metadata": {
        "id": "teJqoEMaPFWH"
      }
    },
    {
      "cell_type": "code",
      "source": [
        "my_list = [1, 2, 3, 4, 5, 6]\n",
        "print(my_list)\n",
        "my_list.append(7)\n",
        "print(my_list)"
      ],
      "metadata": {
        "colab": {
          "base_uri": "https://localhost:8080/"
        },
        "id": "ntDPKX_rPKNg",
        "outputId": "92490602-d972-4259-852a-e054c84ae583"
      },
      "execution_count": null,
      "outputs": [
        {
          "output_type": "stream",
          "name": "stdout",
          "text": [
            "[1, 2, 3, 4, 5, 6]\n",
            "[1, 2, 3, 4, 5, 6, 7]\n"
          ]
        }
      ]
    },
    {
      "cell_type": "markdown",
      "source": [
        "● Add an element at the specified position"
      ],
      "metadata": {
        "id": "UV0g2tdRQBOp"
      }
    },
    {
      "cell_type": "code",
      "source": [
        "my_list.insert(4, 69)\n",
        "print(my_list)"
      ],
      "metadata": {
        "colab": {
          "base_uri": "https://localhost:8080/"
        },
        "id": "8F-VsmyPPSwX",
        "outputId": "8a4beac4-943e-4202-a531-574184ff03c2"
      },
      "execution_count": null,
      "outputs": [
        {
          "output_type": "stream",
          "name": "stdout",
          "text": [
            "[1, 2, 3, 4, 69, 5, 6, 7]\n"
          ]
        }
      ]
    },
    {
      "cell_type": "markdown",
      "source": [
        "● Remove the element at the specified position"
      ],
      "metadata": {
        "id": "rddLAKj8P2xH"
      }
    },
    {
      "cell_type": "code",
      "source": [
        "del my_list[4]\n",
        "print(my_list)"
      ],
      "metadata": {
        "colab": {
          "base_uri": "https://localhost:8080/"
        },
        "id": "r8mCid6jQIpP",
        "outputId": "e8ea0123-d274-49f0-c272-9d4693fc4eed"
      },
      "execution_count": null,
      "outputs": [
        {
          "output_type": "stream",
          "name": "stdout",
          "text": [
            "[1, 2, 3, 4, 5, 6, 7]\n"
          ]
        }
      ]
    },
    {
      "cell_type": "markdown",
      "source": [
        "● Revere the order of the list"
      ],
      "metadata": {
        "id": "qyGpMiQ3QMI-"
      }
    },
    {
      "cell_type": "code",
      "source": [
        "my_list.reverse()\n",
        "print(my_list)"
      ],
      "metadata": {
        "colab": {
          "base_uri": "https://localhost:8080/"
        },
        "id": "fXP24HR3QTKn",
        "outputId": "052503ca-fd0d-4224-9e85-1d645696cb32"
      },
      "execution_count": null,
      "outputs": [
        {
          "output_type": "stream",
          "name": "stdout",
          "text": [
            "[1, 2, 3, 4, 5, 6, 7]\n"
          ]
        }
      ]
    },
    {
      "cell_type": "markdown",
      "source": [
        "● Return the number of elements with the specified value"
      ],
      "metadata": {
        "id": "k_ulgICtQmrW"
      }
    },
    {
      "cell_type": "code",
      "source": [
        "print(my_list.count(2))"
      ],
      "metadata": {
        "colab": {
          "base_uri": "https://localhost:8080/"
        },
        "id": "1GlnWykBQn7O",
        "outputId": "16b7096a-2e72-4270-ca08-3319f709d877"
      },
      "execution_count": null,
      "outputs": [
        {
          "output_type": "stream",
          "name": "stdout",
          "text": [
            "1\n"
          ]
        }
      ]
    },
    {
      "cell_type": "markdown",
      "source": [
        "## 38. Write a python program to implement string methods. Create a string “hello programming”. Apply string methods to get following outputs “HELLO PROGRAMMING”, “PROGRAMMING”, “Hello Programming”, “o Programming”, [“Hello”, “Programming”] , “g”\n"
      ],
      "metadata": {
        "id": "gZVreZVgQy4-"
      }
    },
    {
      "cell_type": "code",
      "source": [
        "my_str = \"hello programming\"\n",
        "\n",
        "# Convert it to Upper case\n",
        "my_str = my_str.upper()\n",
        "print(my_str)\n",
        "\n",
        "# Get the substring starting from the 7th character\n",
        "my_str = my_str[6:]\n",
        "print(my_str)\n",
        "\n",
        "# Get the substring starting from the 7th character\n",
        "my_str = \"hello programming\"\n",
        "my_str = my_str.capitalize()\n",
        "print(my_str)\n",
        "\n",
        "# Get the substring starting from 4th Character \n",
        "my_str = my_str[4:]\n",
        "print(my_str)\n",
        "\n",
        "# Split the String into a alist of words \n",
        "my_list = my_str.split()\n",
        "print(my_list)\n",
        "\n",
        "# Get the last character of the string\n",
        "char = my_str[-1]\n",
        "print(char)"
      ],
      "metadata": {
        "colab": {
          "base_uri": "https://localhost:8080/"
        },
        "id": "5F5BtfptRPS_",
        "outputId": "e322900f-a00a-4fed-d837-445a3cc24cae"
      },
      "execution_count": null,
      "outputs": [
        {
          "output_type": "stream",
          "name": "stdout",
          "text": [
            "HELLO PROGRAMMING\n",
            "PROGRAMMING\n",
            "Hello programming\n",
            "o programming\n",
            "['o', 'programming']\n",
            "g\n"
          ]
        }
      ]
    },
    {
      "cell_type": "markdown",
      "source": [
        "## 37. Write a program to check whether the input year is a leap year or not"
      ],
      "metadata": {
        "id": "qMiEAd9eWJwq"
      }
    },
    {
      "cell_type": "code",
      "source": [
        "year = int(input(\"Enter a ayear: \"))\n",
        "\n",
        "if(year % 4 == 0):\n",
        "    print(\"Leap Year\")\n",
        "else:\n",
        "  print(\"Not a leap year\")    "
      ],
      "metadata": {
        "colab": {
          "base_uri": "https://localhost:8080/"
        },
        "id": "2GOlIGqHWLbN",
        "outputId": "7cc972cc-f6ad-4155-8bad-cadc3405cc9d"
      },
      "execution_count": null,
      "outputs": [
        {
          "output_type": "stream",
          "name": "stdout",
          "text": [
            "Enter a ayear: 2024\n",
            "Leap Year\n"
          ]
        }
      ]
    },
    {
      "cell_type": "markdown",
      "source": [
        "## 36. Write a Python program to check and print if the inputted number is ‘positive’, ‘negative’ or ‘zero’"
      ],
      "metadata": {
        "id": "ggpdsJjuRfQQ"
      }
    },
    {
      "cell_type": "code",
      "source": [
        "num  = int(input(\"Enter a number\"))\n",
        "\n",
        "if(num==0):\n",
        "  print(\"Number is 0\")\n",
        "elif (num<0):\n",
        "  print(\"Number is negetive\")\n",
        "else:\n",
        "  print(\"Number is positive\")  "
      ],
      "metadata": {
        "colab": {
          "base_uri": "https://localhost:8080/"
        },
        "id": "orTZKJzbRmDX",
        "outputId": "35cb78ba-3db9-45cf-fe18-1c1b33003641"
      },
      "execution_count": null,
      "outputs": [
        {
          "output_type": "stream",
          "name": "stdout",
          "text": [
            "Enter a number-29\n",
            "Number is negetive\n"
          ]
        }
      ]
    },
    {
      "cell_type": "markdown",
      "source": [
        "## 35. Print the multiplication tables of all the number between 1 to n##"
      ],
      "metadata": {
        "id": "NXaYalTiSFpd"
      }
    },
    {
      "cell_type": "code",
      "source": [
        "n = int(input(\"Enter a number\"))\n",
        "\n",
        "for i in range(1, n+1):\n",
        "  len = 10\n",
        "  for j in range(1, len+1):\n",
        "    print(i, \" x \", j, \" = \", j*i)"
      ],
      "metadata": {
        "id": "Mn4HaQSQSUQN"
      },
      "execution_count": null,
      "outputs": []
    },
    {
      "cell_type": "markdown",
      "source": [
        "## 34. Write a python program to calculate factorials of all the even numbers between 10 to 50"
      ],
      "metadata": {
        "id": "YP8ZX_MTS_R_"
      }
    },
    {
      "cell_type": "code",
      "source": [
        "def factorial(n):\n",
        "  if n==0:\n",
        "    return 1;\n",
        "  else:\n",
        "    return n * factorial(n-1)\n",
        "\n",
        "\n",
        "for i in range(10, 51):\n",
        "  print(\"Factorial of \",i , \" is \", factorial(i))\n"
      ],
      "metadata": {
        "id": "wQhBSRAyTxv_"
      },
      "execution_count": null,
      "outputs": []
    },
    {
      "cell_type": "markdown",
      "source": [
        "## 33. Write a python program to print all the fibonacci numbers between 1 to 50."
      ],
      "metadata": {
        "id": "Y8NOuS3SVJXP"
      }
    },
    {
      "cell_type": "code",
      "source": [
        "# Function using iteraton\n",
        "def fib(n):\n",
        "  a, b = 0, 1\n",
        "\n",
        "  for i in range(n):\n",
        "    print(b)\n",
        "    temp=a\n",
        "    a=b\n",
        "    b=temp+b\n",
        "\n",
        "\n",
        "# Function usign recursion\n",
        "def fibo(n, a, b, c, a_list):\n",
        "  if(c==n):\n",
        "    return\n",
        "\n",
        "  # print(b)  \n",
        "  a_list.append(b)\n",
        "  fibo(n, b, a+b, c+1, a_list)  \n",
        "\n",
        "\n",
        "\n",
        "# fib(10) \n",
        "# fibo(10, 0, 1, 0) \n",
        "n=10\n",
        "for i in range(n+1):\n",
        "  my_list=[]\n",
        "  fibo(i, 0, 1, 0, my_list)\n",
        "  print(my_list)\n",
        "\n",
        "  "
      ],
      "metadata": {
        "colab": {
          "base_uri": "https://localhost:8080/"
        },
        "id": "sc8HgX5sVa1f",
        "outputId": "c4f59cd3-dcec-4647-ebb1-bad544c41f12"
      },
      "execution_count": null,
      "outputs": [
        {
          "output_type": "stream",
          "name": "stdout",
          "text": [
            "[]\n",
            "[1]\n",
            "[1, 1]\n",
            "[1, 1, 2]\n",
            "[1, 1, 2, 3]\n",
            "[1, 1, 2, 3, 5]\n",
            "[1, 1, 2, 3, 5, 8]\n",
            "[1, 1, 2, 3, 5, 8, 13]\n",
            "[1, 1, 2, 3, 5, 8, 13, 21]\n",
            "[1, 1, 2, 3, 5, 8, 13, 21, 34]\n",
            "[1, 1, 2, 3, 5, 8, 13, 21, 34, 55]\n"
          ]
        }
      ]
    },
    {
      "cell_type": "markdown",
      "source": [
        "##32. Write a python program to range function to add all the odd numbers between 1 to n and display the clasresult\n"
      ],
      "metadata": {
        "id": "_DRM8Cq0WhVQ"
      }
    },
    {
      "cell_type": "code",
      "source": [
        "def add_n(n):\n",
        "  sum=0;\n",
        "  for i in range(1, n):\n",
        "    if(i%2==1):\n",
        "      sum+=i\n",
        "  return sum\n",
        "\n",
        "num = int(input(\"Enter a number\"))\n",
        "add_n(num)"
      ],
      "metadata": {
        "colab": {
          "base_uri": "https://localhost:8080/"
        },
        "id": "ac_fayHrB0Za",
        "outputId": "57818056-dfb4-48ca-ea26-27a6e814e2ae"
      },
      "execution_count": null,
      "outputs": [
        {
          "name": "stdout",
          "output_type": "stream",
          "text": [
            "Enter a number10\n"
          ]
        },
        {
          "output_type": "execute_result",
          "data": {
            "text/plain": [
              "25"
            ]
          },
          "metadata": {},
          "execution_count": 7
        }
      ]
    },
    {
      "cell_type": "markdown",
      "source": [
        "## 31. Write a python program to print a pyramid pattern on the screen"
      ],
      "metadata": {
        "id": "6RY1sOl4B3SA"
      }
    },
    {
      "cell_type": "code",
      "source": [
        "n = int(input(\"Enter height of pyramid: \"))\n",
        "\n",
        "for i in range(1, n+1):\n",
        "  print(\" \"*(n-i), end=\"\")\n",
        "  print(\"*\"*(2*i-1))"
      ],
      "metadata": {
        "colab": {
          "base_uri": "https://localhost:8080/"
        },
        "id": "ngeEbeO6DVHO",
        "outputId": "879c47e2-6b87-4bcf-d33d-197b891a1e7a"
      },
      "execution_count": null,
      "outputs": [
        {
          "output_type": "stream",
          "name": "stdout",
          "text": [
            "Enter height of pyramid: 10\n",
            "         *\n",
            "        ***\n",
            "       *****\n",
            "      *******\n",
            "     *********\n",
            "    ***********\n",
            "   *************\n",
            "  ***************\n",
            " *****************\n",
            "*******************\n"
          ]
        }
      ]
    },
    {
      "cell_type": "markdown",
      "source": [
        "## 30. Write a python program implements stack using array"
      ],
      "metadata": {
        "id": "YlIuqmhcFIbF"
      }
    },
    {
      "cell_type": "code",
      "source": [
        "class Stack:\n",
        "    def __init__(self):\n",
        "      self.items=[]\n",
        "\n",
        "    def is_empty(self):\n",
        "      return len(self.items)==0;\n",
        "\n",
        "\n",
        "    def push(self, num):\n",
        "      self.items.append(num)\n",
        "\n",
        "\n",
        "    def pop(self):\n",
        "      if self.is_empty():\n",
        "        return None\n",
        "      else:\n",
        "        return self.items.pop()\n",
        "\n",
        "\n",
        "    def peek(self):\n",
        "      if self.is_empty():\n",
        "        return None\n",
        "      else:\n",
        "        return self.items[-1]\n",
        "\n",
        "    def size(self):\n",
        "      return len(self.items)\n",
        "\n",
        "\n",
        "\n",
        "s = Stack()\n",
        "s.push(1)\n",
        "s.push(2)\n",
        "s.push(3)\n",
        "print(s.peek())    # Output: 3\n",
        "s.pop()\n",
        "print(s.peek())    # Output: 2\n",
        "print(s.size())    # Output: 2\n"
      ],
      "metadata": {
        "colab": {
          "base_uri": "https://localhost:8080/"
        },
        "id": "UOrw4m3yHVN0",
        "outputId": "9ae4fffb-474f-494b-e163-21d1219a487c"
      },
      "execution_count": null,
      "outputs": [
        {
          "output_type": "stream",
          "name": "stdout",
          "text": [
            "3\n",
            "2\n",
            "2\n"
          ]
        }
      ]
    },
    {
      "cell_type": "markdown",
      "source": [
        "## 29. Write a program to create an array a of size 10 of type integer. Create another array b which has four times the elements of array a"
      ],
      "metadata": {
        "id": "El9J2AWMHmUj"
      }
    },
    {
      "cell_type": "code",
      "source": [
        "# Extract elements from 4 to 8 from an array and store in another array.\n",
        "a = [i for i in range(10)]\n",
        "print(a)\n",
        "\n",
        "# create array b with four times the elements of array a\n",
        "b = a*4\n",
        "print(b)\n",
        "\n",
        "# extract elements from 4 to 8 from an array and store in another array\n",
        "c = a[4:8]\n",
        "print(c)\n",
        "\n",
        "# Print the array in the reverse order \n",
        "print(\"Array in reverse order is: \", a[::-1])\n",
        "\n",
        "# pop elements from the array from first location, from middle and from last\n",
        "a.pop(0)\n",
        "a.pop(len(a)//2)\n",
        "a.pop()\n",
        "print(\"After poppng elements from the array from first location, from middle and from last\", a)\n",
        "\n",
        "# append three more elements to the array\n",
        "a.append(10)\n",
        "a.append(12)\n",
        "a.append(13)\n",
        "print(a)\n",
        "\n",
        "# delete the third elements of an array\n",
        "del a[2]\n",
        "print(\"After deleting the thirs element: \", a)\n",
        "\n",
        "# search an element from an array\n",
        "element = 7 \n",
        "if element in a:\n",
        "  print(\"Element found\")\n",
        "else:\n",
        "  print(\"Element not found\")  \n",
        "\n",
        "\n",
        "# insert an element in the middle\n",
        "a.insert(len(a)//2, 100)\n",
        "print(\"Array after inserting the element in the middle\", a)"
      ],
      "metadata": {
        "colab": {
          "base_uri": "https://localhost:8080/"
        },
        "id": "ll23elLXJC3B",
        "outputId": "035b87fe-c643-4009-8e52-6d96fc0536ad"
      },
      "execution_count": null,
      "outputs": [
        {
          "output_type": "stream",
          "name": "stdout",
          "text": [
            "[0, 1, 2, 3, 4, 5, 6, 7, 8, 9]\n",
            "[0, 1, 2, 3, 4, 5, 6, 7, 8, 9, 0, 1, 2, 3, 4, 5, 6, 7, 8, 9, 0, 1, 2, 3, 4, 5, 6, 7, 8, 9, 0, 1, 2, 3, 4, 5, 6, 7, 8, 9]\n",
            "[4, 5, 6, 7]\n",
            "Array in reverse order is:  [9, 8, 7, 6, 5, 4, 3, 2, 1, 0]\n",
            "After poppng elements from the array from first location, from middle and from last [1, 2, 3, 4, 6, 7, 8]\n",
            "[1, 2, 3, 4, 6, 7, 8, 10, 12, 13]\n",
            "After deleting the thirs element:  [1, 2, 4, 6, 7, 8, 10, 12, 13]\n",
            "Element found\n",
            "Array after inserting the element in the middle [1, 2, 4, 6, 100, 7, 8, 10, 12, 13]\n"
          ]
        }
      ]
    },
    {
      "cell_type": "markdown",
      "source": [
        "## 28. Write a program to compute sum of all the list elements and implement the same using reduce function"
      ],
      "metadata": {
        "id": "QzBN3n0GtXA0"
      }
    },
    {
      "cell_type": "code",
      "source": [
        "import functools as ft \n",
        "numbers = [1, 2, 3, 4, 5]\n",
        "\n",
        "sum_of_nums = 0\n",
        "\n",
        "# compute sum of list elements using a for loop\n",
        "for i in range(len(numbers)):\n",
        "  sum_of_nums += numbers[i]\n",
        "\n",
        "# compute sum of list elements using reduce function\n",
        "sum_reduce_func = ft.reduce(lambda x, y: x+y, numbers)\n",
        "\n",
        "print(\"sum of numbers = \", sum_of_nums)  \n",
        "print(\"sum of numbers = \", sum_reduce_func)  "
      ],
      "metadata": {
        "colab": {
          "base_uri": "https://localhost:8080/"
        },
        "id": "sPkRN6tvtsds",
        "outputId": "4d4ecec8-27f3-44a0-807d-267ee6b70ee8"
      },
      "execution_count": null,
      "outputs": [
        {
          "output_type": "stream",
          "name": "stdout",
          "text": [
            "sum of numbers =  15\n",
            "sum of numbers =  15\n"
          ]
        }
      ]
    },
    {
      "cell_type": "markdown",
      "source": [
        "## 27. Write a program to function that filters vowels from given list of characters and implement the same using filter function  (Revision must)"
      ],
      "metadata": {
        "id": "nzKNgHv1vTUr"
      }
    },
    {
      "cell_type": "code",
      "source": [
        "def filter_vowels(chars):\n",
        "  vowels = ['a', 'e', 'i', 'o', 'u']\n",
        "  filtered_chars = []\n",
        "\n",
        "  for char in chars:\n",
        "    if char.lower() in vowels:\n",
        "      filtered_chars.append(char)\n",
        "\n",
        "  return filtered_chars \n",
        "\n",
        "chars = ['a', 'b', 'c', 'd', 'e', 'f', 'g', 'h', 'i', 'j']\n",
        "\n",
        "filtered_chars_func = filter_vowels(chars)\n",
        "\n",
        "# filter vowels using the filter function and the filter_vowels function\n",
        "filtered_chars = list(filter(lambda x: x.lower() in ['a', 'e', 'i', 'o', 'u'], chars))\n",
        "\n",
        "\n",
        "# print the filtered characters\n",
        "print(\"Filtered characters using filter function:\", filtered_chars)\n",
        "print(\"Filtered characters using filter_vowels function:\", filtered_chars_func)"
      ],
      "metadata": {
        "colab": {
          "base_uri": "https://localhost:8080/"
        },
        "id": "upUINp-OvalM",
        "outputId": "e38113d2-f993-4109-aca4-8d3492b6d8df"
      },
      "execution_count": null,
      "outputs": [
        {
          "output_type": "stream",
          "name": "stdout",
          "text": [
            "Filtered characters using filter function: ['a', 'e', 'i']\n",
            "Filtered characters using filter_vowels function: ['a', 'e', 'i']\n"
          ]
        }
      ]
    },
    {
      "cell_type": "markdown",
      "source": [
        "## 26. Write a program to double all the numbers of the list using normal function and Implement the same using map function\n"
      ],
      "metadata": {
        "id": "IKfpSnz5vqLT"
      }
    },
    {
      "cell_type": "code",
      "source": [
        "def double_numbers(numbers):\n",
        "  doubled_numbers = []\n",
        "\n",
        "  for num in numbers:\n",
        "    doubled_numbers.append(num*2)\n",
        "\n",
        "  return doubled_numbers\n",
        "\n",
        "numbers = [1, 2, 3, 4, 5]\n",
        "\n",
        "doubled_numbers = list(map(lambda x:x*2, numbers))\n",
        "doubled_numbers_func =  double_numbers(numbers)\n",
        "\n",
        "print(\"Doubled numbers using map function:\", doubled_numbers)\n",
        "print(\"Doubled numbers using double_numbers function:\", doubled_numbers_func)\n"
      ],
      "metadata": {
        "colab": {
          "base_uri": "https://localhost:8080/"
        },
        "id": "k49qJ4MCynV8",
        "outputId": "fd74da84-f1b0-4079-9494-d85700d68f75"
      },
      "execution_count": null,
      "outputs": [
        {
          "output_type": "stream",
          "name": "stdout",
          "text": [
            "Doubled numbers using map function: [2, 4, 6, 8, 10]\n",
            "Doubled numbers using double_numbers function: [2, 4, 6, 8, 10]\n"
          ]
        }
      ]
    },
    {
      "cell_type": "markdown",
      "source": [
        "## 25. Write a function to calculate cube of a number and implement the same using anonymous function called lambda\n"
      ],
      "metadata": {
        "id": "D1hZYlSnzt8z"
      }
    },
    {
      "cell_type": "code",
      "source": [
        "def cube(x):\n",
        "    return x**3\n",
        "\n",
        "\n",
        "result = cube(5)\n",
        "print(\"Cube of 5 using normal function:\", result)\n",
        "\n",
        "# use an anonymous lambda function to calculate the cube of 5\n",
        "cube_lambda = lambda x:x**3\n",
        "result_lambda = cube_lambda(5)\n",
        "print(\"Cube of 5 using lambda function:\", result_lambda)"
      ],
      "metadata": {
        "colab": {
          "base_uri": "https://localhost:8080/"
        },
        "id": "B4DyZ2hgz4ND",
        "outputId": "79ed7af2-4e60-4c12-e37a-fc7e8efc5787"
      },
      "execution_count": null,
      "outputs": [
        {
          "output_type": "stream",
          "name": "stdout",
          "text": [
            "Cube of 5 using normal function: 125\n",
            "Cube of 5 using lambda function: 125\n"
          ]
        }
      ]
    },
    {
      "cell_type": "markdown",
      "source": [
        "## 24. To implement a python program to handle multiple exceptions (min 5 exceptions) implement all the types of errors that can be handled in try-except block."
      ],
      "metadata": {
        "id": "hehLykN41rCY"
      }
    },
    {
      "cell_type": "code",
      "source": [
        "# define a function to handle exceptions\n",
        "def handle_exceptions():\n",
        "    try:\n",
        "        # division by zero\n",
        "        num = 1 / 0\n",
        "    except ZeroDivisionError:\n",
        "        print(\"Error: division by zero\")\n",
        "\n",
        "    try:\n",
        "        # accessing a non-existent index of a list\n",
        "        my_list = [1, 2, 3]\n",
        "        item = my_list[3]\n",
        "    except IndexError:\n",
        "        print(\"Error: index out of range\")\n",
        "\n",
        "    try:\n",
        "        # converting a string to an integer\n",
        "        my_string = \"hello\"\n",
        "        my_num = int(my_string)\n",
        "    except ValueError:\n",
        "        print(\"Error: invalid conversion to integer\")\n",
        "\n",
        "    try:\n",
        "        # accessing a non-existent attribute of an object\n",
        "        my_dict = {\"key\": \"value\"}\n",
        "        my_val = my_dict[\"nonexistent_key\"]\n",
        "    except KeyError:\n",
        "        print(\"Error: key does not exist\")\n",
        "\n",
        "    try:\n",
        "        # attempting to call a non-callable object\n",
        "        my_num = 1234\n",
        "        my_num()\n",
        "    except TypeError:\n",
        "        print(\"Error: object is not callable\")\n",
        "\n",
        "# call the handle_exceptions function\n",
        "handle_exceptions()"
      ],
      "metadata": {
        "colab": {
          "base_uri": "https://localhost:8080/"
        },
        "id": "VbeQ07Fg7dLB",
        "outputId": "7a438446-891d-46c0-f6fe-357d592495b5"
      },
      "execution_count": null,
      "outputs": [
        {
          "output_type": "stream",
          "name": "stdout",
          "text": [
            "Error: division by zero\n",
            "Error: index out of range\n",
            "Error: invalid conversion to integer\n",
            "Error: key does not exist\n",
            "Error: object is not callable\n"
          ]
        }
      ]
    },
    {
      "cell_type": "markdown",
      "source": [
        "## 23. Write a Python program to calculate the sum of first 5 natural numbers using recursion."
      ],
      "metadata": {
        "id": "lx6Qt7E674CB"
      }
    },
    {
      "cell_type": "code",
      "source": [
        "def sum_natural_numbers(n):\n",
        "    if n == 1:\n",
        "        return 1\n",
        "    else:\n",
        "        return n + sum_natural_numbers(n - 1)\n",
        "\n",
        "# calculate the sum of the first 5 natural numbers using the sum_natural_numbers function\n",
        "result = sum_natural_numbers(5)\n",
        "\n",
        "# print the result\n",
        "print(\"The sum of the first 5 natural numbers is:\", result)"
      ],
      "metadata": {
        "colab": {
          "base_uri": "https://localhost:8080/"
        },
        "id": "zVCQwTmR95T_",
        "outputId": "2636ea09-292e-426d-af78-f5b96d653e7e"
      },
      "execution_count": null,
      "outputs": [
        {
          "output_type": "stream",
          "name": "stdout",
          "text": [
            "The sum of the first 5 natural numbers is: 15\n"
          ]
        }
      ]
    },
    {
      "cell_type": "markdown",
      "source": [
        "## 22. To implement a python program to define user defined functions to handle multiple exceptions (min 5 exceptions)  (Revision Must)"
      ],
      "metadata": {
        "id": "MWRmq3Di-MLY"
      }
    },
    {
      "cell_type": "code",
      "source": [
        "# define a function to handle a ZeroDivisionError\n",
        "def handle_zero_division_error():\n",
        "    try:\n",
        "        num = 1 / 0\n",
        "    except ZeroDivisionError:\n",
        "        print(\"Error: division by zero\")\n",
        "\n",
        "# define a function to handle an IndexError\n",
        "def handle_index_error():\n",
        "    try:\n",
        "        my_list = [1, 2, 3]\n",
        "        item = my_list[3]\n",
        "    except IndexError:\n",
        "        print(\"Error: index out of range\")\n",
        "\n",
        "# define a function to handle a ValueError\n",
        "def handle_value_error():\n",
        "    try:\n",
        "        my_string = \"hello\"\n",
        "        my_num = int(my_string)\n",
        "    except ValueError:\n",
        "        print(\"Error: invalid conversion to integer\")\n",
        "\n",
        "# define a function to handle a KeyError\n",
        "def handle_key_error():\n",
        "    try:\n",
        "        my_dict = {\"key\": \"value\"}\n",
        "        my_val = my_dict[\"nonexistent_key\"]\n",
        "    except KeyError:\n",
        "        print(\"Error: key does not exist\")\n",
        "\n",
        "# define a function to handle a TypeError\n",
        "def handle_type_error():\n",
        "    try:\n",
        "        my_num = 1234\n",
        "        my_num()\n",
        "    except TypeError:\n",
        "        print(\"Error: object is not callable\")\n",
        "\n",
        "# call the exception handling functions\n",
        "handle_zero_division_error()\n",
        "handle_index_error()\n",
        "handle_value_error()\n",
        "handle_key_error()\n",
        "handle_type_error()\n"
      ],
      "metadata": {
        "colab": {
          "base_uri": "https://localhost:8080/"
        },
        "id": "EcQUZJ44_fZw",
        "outputId": "3c2ff86e-d91e-43eb-89b9-ca82ee2e3bbd"
      },
      "execution_count": null,
      "outputs": [
        {
          "output_type": "stream",
          "name": "stdout",
          "text": [
            "Error: division by zero\n",
            "Error: index out of range\n",
            "Error: invalid conversion to integer\n",
            "Error: key does not exist\n",
            "Error: object is not callable\n"
          ]
        }
      ]
    },
    {
      "cell_type": "markdown",
      "source": [
        "## 21. Write a python program to implement a python program to implement Linear Search Algorithm using function"
      ],
      "metadata": {
        "id": "JFL_EJC2IF-O"
      }
    },
    {
      "cell_type": "code",
      "source": [
        "arr = [i for i in range(10)]\n",
        "flag = False\n",
        "toFind = 5\n",
        "\n",
        "for i in range(len(arr)):\n",
        "  if(arr[i]==toFind):\n",
        "    flag=True\n",
        "\n",
        "if(flag):\n",
        "  print(\"Found\")\n",
        "else: \n",
        "  print(\"Not found\")  "
      ],
      "metadata": {
        "colab": {
          "base_uri": "https://localhost:8080/"
        },
        "id": "-ceoNdJlILXd",
        "outputId": "9a91302b-332f-476a-bab2-fa0cba5df55f"
      },
      "execution_count": null,
      "outputs": [
        {
          "output_type": "stream",
          "name": "stdout",
          "text": [
            "Found\n"
          ]
        }
      ]
    },
    {
      "cell_type": "code",
      "source": [],
      "metadata": {
        "id": "z9emM6lhIXvt"
      },
      "execution_count": null,
      "outputs": []
    }
  ]
}